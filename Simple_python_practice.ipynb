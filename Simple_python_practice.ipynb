{
  "nbformat": 4,
  "nbformat_minor": 0,
  "metadata": {
    "colab": {
      "provenance": []
    },
    "kernelspec": {
      "name": "python3",
      "display_name": "Python 3"
    },
    "language_info": {
      "name": "python"
    }
  },
  "cells": [
    {
      "cell_type": "code",
      "metadata": {
        "id": "ccs0RJq8zoRa"
      },
      "source": [
        "\n",
        "\n",
        "\"\"\"\n",
        "Suppose there is a list variable L3 = [‘india’, ‘canada’, ‘australia’, ‘fiji’].\n",
        "\n",
        "Use loop and write a Python function to print the longest string in L3 which has the character i. Do not use max() function\n",
        "\n",
        "\n",
        "1. Use user defined function as much possible to make the code modular\n",
        "2. Use try except finally for exception handling\n",
        "\n",
        "\"\"\""
      ],
      "execution_count": null,
      "outputs": []
    },
    {
      "cell_type": "code",
      "metadata": {
        "colab": {
          "base_uri": "https://localhost:8080/"
        },
        "id": "ZOoeuER0r92F",
        "outputId": "d5d37814-23e1-4df4-b90b-7c1fb6b86cee"
      },
      "source": [
        "# Write a Python program to iterate over dictionaries using for loops.\n",
        "d = {'x': 10, 'y': 20, 'z': 30}\n",
        "for dict_key, dict_value in d.items():\n",
        "    print(dict_key,'->',dict_value)\n",
        "\n"
      ],
      "execution_count": null,
      "outputs": [
        {
          "output_type": "stream",
          "name": "stdout",
          "text": [
            "x -> 10\n",
            "y -> 20\n",
            "z -> 30\n"
          ]
        }
      ]
    },
    {
      "cell_type": "code",
      "metadata": {
        "colab": {
          "base_uri": "https://localhost:8080/"
        },
        "id": "5PtxvSuGr-Ee",
        "outputId": "2269c4e7-e529-4239-dac6-1f3f9f556d3a"
      },
      "source": [
        "# print the dictionary keys using for loops\n",
        "\n",
        "d = {'x': 10, 'y': 20, 'z': 30}\n",
        "for i in d:\n",
        "    print(i)\n",
        "\n",
        "\n",
        "# print the dictionary values using for loops\n",
        "for i in d:\n",
        "  if d[i] == 10:\n",
        "    print(d[i])"
      ],
      "execution_count": null,
      "outputs": [
        {
          "output_type": "stream",
          "name": "stdout",
          "text": [
            "x\n",
            "y\n",
            "z\n",
            "10\n"
          ]
        }
      ]
    },
    {
      "cell_type": "code",
      "metadata": {
        "colab": {
          "base_uri": "https://localhost:8080/"
        },
        "id": "79K2RHBWr-RR",
        "outputId": "ea776028-7710-490e-ae9c-25ce16aa53d2"
      },
      "source": [
        "# Print a dictionary where particular keys are present using list comprehension\n",
        "\n",
        "# List Comprehension general Syntax [EXPRESSION for ITEM in ITERABLE if CONDITION == True ...]\n",
        "\n",
        "# print particular keys.\n",
        "\n",
        "myDict = [{'fname': 'James', 'mname': 'Smith', 'lname': 'Joule'},\n",
        "      {'fname': 'James', 'mname': 'Johnson', 'lname': 'Watt'},\n",
        "      {'fname': 'Christian', 'mname': 'Edward', 'lname': 'Doppler'},\n",
        "      {'fname': 'Robert', 'lname': 'Antonio'}]\n",
        "\n",
        "keys = {'fname'}\n",
        "\n",
        "new_dict = [{k:v for k, v in i.items() if k in keys} for i in myDict]\n",
        "\n",
        "print(new_dict)"
      ],
      "execution_count": null,
      "outputs": [
        {
          "output_type": "stream",
          "name": "stdout",
          "text": [
            "[{'fname': 'James'}, {'fname': 'James'}, {'fname': 'Christian'}, {'fname': 'Robert'}]\n"
          ]
        }
      ]
    },
    {
      "cell_type": "code",
      "metadata": {
        "colab": {
          "base_uri": "https://localhost:8080/"
        },
        "id": "cfweCfZP0veF",
        "outputId": "279e757f-30bb-4b26-c5dc-62425da3838d"
      },
      "source": [
        "# Filter list of dictionaries by key\n",
        "# List Comprehension general Syntax [EXPRESSION for ITEM in ITERABLE if CONDITION == True]\n",
        "\n",
        "\n",
        "stu_dict = [{'name':'alice','sub':'math','age':25},\n",
        "{'name1':'jack','sub':'math','age':22},\n",
        "{'name':'Ron','age':20},\n",
        "{'name':'Sam','age':23},\n",
        "{'age':23}]\n",
        "\n",
        "def condition(dic):\n",
        "  if 'name' in dic:\n",
        "    return dic\n",
        "\n",
        "result = [d for d in stu_dict if condition(d)]\n",
        "\n",
        "print('filtered dictionary based on key =\\n',result)\n"
      ],
      "execution_count": null,
      "outputs": [
        {
          "output_type": "stream",
          "name": "stdout",
          "text": [
            "filtered dictionary based on key =\n",
            " [{'name': 'alice', 'sub': 'math', 'age': 25}, {'name': 'Ron', 'age': 20}, {'name': 'Sam', 'age': 23}]\n"
          ]
        }
      ]
    },
    {
      "cell_type": "code",
      "metadata": {
        "id": "Y3nI3FgZr-dZ"
      },
      "source": [],
      "execution_count": null,
      "outputs": []
    },
    {
      "cell_type": "code",
      "metadata": {
        "id": "A0Y9L0UIr-pQ"
      },
      "source": [],
      "execution_count": null,
      "outputs": []
    },
    {
      "cell_type": "code",
      "metadata": {
        "id": "Dt_KfaQSr-2W"
      },
      "source": [
        "# Do research on many other ways to sort a dictionary"
      ],
      "execution_count": null,
      "outputs": []
    },
    {
      "cell_type": "code",
      "metadata": {
        "colab": {
          "base_uri": "https://localhost:8080/"
        },
        "id": "bcNaGeAlr_Cz",
        "outputId": "ccf2166d-5a67-4390-dcf2-49e5147e46d0"
      },
      "source": [
        "# Print all unique values in a dictionary\n",
        "\n",
        "L_of_dict = [{\"V\":\"S001\"}, {\"V\": \"S002\"}, {\"VI\": \"S001\"}, {\"VI\": \"S005\"}, {\"VII\":\"S005\"}, {\"V\":\"S009\"},{\"VIII\":\"S007\"}]\n",
        "print(\"Original List: \", L_of_dict)\n",
        "u_value = set( val for dic in L_of_dict for val in dic.values())\n",
        "print(\"Unique Values: \",u_value)"
      ],
      "execution_count": null,
      "outputs": [
        {
          "output_type": "stream",
          "name": "stdout",
          "text": [
            "Original List:  [{'V': 'S001'}, {'V': 'S002'}, {'VI': 'S001'}, {'VI': 'S005'}, {'VII': 'S005'}, {'V': 'S009'}, {'VIII': 'S007'}]\n",
            "Unique Values:  {'S002', 'S001', 'S007', 'S009', 'S005'}\n"
          ]
        }
      ]
    },
    {
      "cell_type": "code",
      "metadata": {
        "colab": {
          "base_uri": "https://localhost:8080/"
        },
        "id": "9pK_4uE4r_Pq",
        "outputId": "9f306a4b-8574-4d27-c2b2-ac9e5f9ddf26"
      },
      "source": [
        "# WITH LIST COMPREHENSION CREATE A NEW LIST FROM A LIST WITH ONLY WORDS HAVING pp\n",
        "\n",
        "# SYNTAX newlist = [EXPRESSION for ITEM in ITERABLE if CONDITION == True]\n",
        "\n",
        "fruits = [\"apple\", \"banana\", \"cherry\", \"kiwi\", \"mango\"]\n",
        "\n",
        "newlist = [x for x in fruits if \"pp\" in x]\n",
        "\n",
        "print(newlist)\n",
        "\n"
      ],
      "execution_count": null,
      "outputs": [
        {
          "output_type": "stream",
          "name": "stdout",
          "text": [
            "['apple']\n"
          ]
        }
      ]
    },
    {
      "cell_type": "code",
      "metadata": {
        "id": "lhd5HCxjr_c4",
        "colab": {
          "base_uri": "https://localhost:8080/"
        },
        "outputId": "63ca2d23-0b63-4c38-975a-83c956576f2c"
      },
      "source": [
        "# PRINT ALL ELEMENTS OF A LIST IN UPPER WITH LIST COMPREHENSION\n",
        "\n",
        "# SYNTAX newlist = [EXPRESSION for ITEM in ITERABLE if CONDITION == True]\n",
        "\n",
        "newlist_2 = ['apple', 'banana', 'orange' ]\n",
        "newlist_2 = [x for x in newlist_2]\n",
        "print(newlist_2)\n",
        "newlist_2_UPPER = [x.upper() for x in newlist_2]\n",
        "print(newlist_2_UPPER)\n"
      ],
      "execution_count": null,
      "outputs": [
        {
          "output_type": "stream",
          "name": "stdout",
          "text": [
            "['apple', 'banana', 'orange']\n",
            "['APPLE', 'BANANA', 'ORANGE']\n"
          ]
        }
      ]
    },
    {
      "cell_type": "code",
      "metadata": {
        "id": "NVJDFeQgr_o9",
        "colab": {
          "base_uri": "https://localhost:8080/",
          "height": 37
        },
        "outputId": "110a3a42-7c86-4708-b5c3-94bb5725b25c"
      },
      "source": [
        "'apple'.upper()"
      ],
      "execution_count": null,
      "outputs": [
        {
          "output_type": "execute_result",
          "data": {
            "application/vnd.google.colaboratory.intrinsic+json": {
              "type": "string"
            },
            "text/plain": [
              "'APPLE'"
            ]
          },
          "metadata": {},
          "execution_count": 23
        }
      ]
    }
  ]
}