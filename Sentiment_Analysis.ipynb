{
  "nbformat": 4,
  "nbformat_minor": 0,
  "metadata": {
    "colab": {
      "provenance": []
    },
    "kernelspec": {
      "name": "python3",
      "display_name": "Python 3"
    },
    "language_info": {
      "name": "python"
    }
  },
  "cells": [
    {
      "cell_type": "markdown",
      "source": [
        "#**Topic: Sentimental Analysis on RBI's decission of changing Repo Rate.**\n",
        "\n",
        "## **What is Repo Rate?**\n",
        "\n",
        "- Repo rate is the rate at which the central bank of a country (Reserve Bank of India in case of India) lends money to commercial banks in the event of any shortfall of funds. Repo rate is used by monetary authorities to control inflation. The increase in Repo means the costs of funds for banks will go up. It result in banks increasing their bank lending rate. So, basically the policy action of increase in Repo rate by central bank will lead to increase in interest rate in the economy. The increase in interest rate in the economy changes many economy wide investment decisions. It also effects financial markets.\n",
        "   "
      ],
      "metadata": {
        "id": "5UIyz7UIc8ND"
      }
    },
    {
      "cell_type": "markdown",
      "source": [
        "- The RBI's repo rate has been kept unchanged at 4 percent since May 2020. That's the rate at which the central bank lends short-term funds to banks.The Reserve Bank of India (RBI) raised the repo rate - at which it lends money to commercial banks - by 40 basis points to 4.4% very recently.\n",
        "\n",
        "- The rate had been reduced to a record low of 4% during the Covid-19 pandemic.\n",
        "RBI governor Shaktikanta Das made the surprise announcement during an online media briefing on Wednesday.\n"
      ],
      "metadata": {
        "id": "mZ-TC71t7DKF"
      }
    },
    {
      "cell_type": "markdown",
      "source": [
        "- Sometimes, in a economy people beliefs or sentiments about a policy change affects the economy more than that policy does. So, we think our sentimental analysis on repo rates serves the purpose of analyzing how positive or negative the sentiments of people regarding this policy action."
      ],
      "metadata": {
        "id": "I9TwhG-18cPr"
      }
    },
    {
      "cell_type": "markdown",
      "source": [
        "# **What is Sentiment Ananlysis?**\n",
        "- Purpose is to examine sentiments of the public on the subject of interest by classifying text based on their polarity and subjectivity.\n",
        "- Extracting subjective information from social media platforms like Twitter.\n",
        "- Surface level analysis of subjective information regarding a socio-economic-political change in the society, or some brand, its project and services.\n",
        "\n",
        " ### **Polarity of sentiments.**\n",
        " - Sentiments are analysed based on their degree of polarity.\n",
        " - Score is assigned to positivity, neutrality and negativity of the sentiments by setting limits as +1 to -1.\n",
        "\n",
        " ### **Subjectivity of sentiments.**\n",
        " - Degree to which the person is involved personally and emotionally with the subject at hand.\n",
        " - Here the limits are 0 to 1. Higher the degree of subjectivity, closer is the data point to 1.\n",
        " - If it is closer to 0, then the tweet is more objective than subjective."
      ],
      "metadata": {
        "id": "cpIIajA2tpCN"
      }
    },
    {
      "cell_type": "code",
      "execution_count": null,
      "metadata": {
        "id": "LUA6qQJRnyvS"
      },
      "outputs": [],
      "source": [
        "import tweepy\n",
        "from textblob import TextBlob\n",
        "from wordcloud import WordCloud\n",
        "import pandas as pd\n",
        "import numpy as np\n",
        "import re\n",
        "import matplotlib.pyplot as plt\n"
      ]
    },
    {
      "cell_type": "code",
      "source": [
        "#Twitter\n",
        "authentication_key = \"d2XSClJQmtOtSDHuIHoskBdkk\"\n",
        "secret = \"gAt681537WFK0pJAsCgJDdEK1QmU05hn8YcNrtIaaBhaVsePKZ\"\n",
        "access_token = \"1520110810562895878-DO72c34e7dhkB6VUXsWhuNtTkVTLIC\"\n",
        "token_secret = \"i4DmRuSgjUtL6LIe8PKYCUNG12tcOoFEbOAwQMlmonPdN\""
      ],
      "metadata": {
        "id": "b5hbLztiow_W"
      },
      "execution_count": null,
      "outputs": []
    },
    {
      "cell_type": "code",
      "source": [
        "authenticate= tweepy.OAuthHandler(authentication_key, secret)\n",
        "authenticate.set_access_token(access_token,token_secret )\n",
        "api = tweepy.API(authenticate, wait_on_rate_limit= True)"
      ],
      "metadata": {
        "id": "vv9ustITrF6g"
      },
      "execution_count": null,
      "outputs": []
    },
    {
      "cell_type": "code",
      "source": [
        "interested_user = api.get_user(\"elonmusk\")"
      ],
      "metadata": {
        "id": "tocgDl8KuT-f"
      },
      "execution_count": null,
      "outputs": []
    },
    {
      "cell_type": "code",
      "source": [
        "interested_user.description"
      ],
      "metadata": {
        "colab": {
          "base_uri": "https://localhost:8080/",
          "height": 35
        },
        "id": "vq6tm5F503hv",
        "outputId": "fcd07d34-c3f0-4339-df99-63ba96ac5ab7"
      },
      "execution_count": null,
      "outputs": [
        {
          "output_type": "execute_result",
          "data": {
            "text/plain": [
              "''"
            ],
            "application/vnd.google.colaboratory.intrinsic+json": {
              "type": "string"
            }
          },
          "metadata": {},
          "execution_count": 127
        }
      ]
    },
    {
      "cell_type": "code",
      "source": [
        "#tweets = api.user_timeline(screen_name = \"narendramodi\", count = 1000, lang = \"en\", tweet_mode = \"extended\")"
      ],
      "metadata": {
        "id": "pHTCn0Y9HVzA"
      },
      "execution_count": null,
      "outputs": []
    },
    {
      "cell_type": "code",
      "source": [
        "tweets = api.search(q = \"repo rate\",lang = \"en\", count = 2000, tweet_mode = \"extended\")\n",
        "\n",
        "for tweet in tweets:\n",
        "  print(tweet.full_text)"
      ],
      "metadata": {
        "colab": {
          "base_uri": "https://localhost:8080/"
        },
        "id": "jJ5-5Og4Jlsq",
        "outputId": "6dc3b6ce-35b3-48ec-f173-61f708c1af97"
      },
      "execution_count": null,
      "outputs": [
        {
          "output_type": "stream",
          "name": "stdout",
          "text": [
            "RT @DamnYeahCrypto: @42macroDDale He will do a stealth pivot by lowering the Reverse Repo rate.\n",
            "RT @ScottSkyrm: The Repo rate corridor is an unofficial floor and ceiling for Repo rates. The upper bound is the Standing Repo Facility (SR…\n",
            "How RBI's repo rate hike has pushed small finance banks and private banks to offer as high as 7% on three-year FDs https://t.co/IwGUPDxz8Y\n",
            "RT @kharge: IIP &lt; 2% for 5 months\n",
            "CPI: At an 8 year high\n",
            "WPI: At a 9 year high\n",
            "Trade deficit: All-time high\n",
            "Repo Rate: At a 2 year high\n",
            "Rup…\n",
            "RT @pinkysithole17: The SARB may very well increase the repo rate by 50bps today. Those with savings accounts will celebrate higher interes…\n",
            "@RubikaLiyaquat @ABPNews What about REPO rate ? Do bit shame an debate on real issues.\n",
            "RT @kharge: IIP &lt; 2% for 5 months\n",
            "CPI: At an 8 year high\n",
            "WPI: At a 9 year high\n",
            "Trade deficit: All-time high\n",
            "Repo Rate: At a 2 year high\n",
            "Rup…\n",
            "INDIA CENBANK SAYS TO CONDUCT 14-DAY VARIABLE RATE REVERSE REPO AUCTION FOR 4 TRLN RUPEES #News #Forex #CENBANK #RUPEE\n",
            "RT @monstermanojit: Sharp [rate] increases also destabilize financial markets. But highly negative rates contribute to overheating. It is n…\n",
            "@arthashashtr Well explained. Repo rate and reverse repo rate flow chart description is interchanged by mistake.\n",
            "All india consumer price index touched 7.79% in April 2022. To tame inflation RBI increased repo rate and CRR by 40 and 50 basis points respectively. Government also imposed ban on wheat exports. Effect of these two steps is clearly explained in the below article\n",
            "RT @Banker__X: Today is the day the South African Reserve Bank’s Monetary Policy Committee (MPC) concludes its meeting and make an announce…\n",
            "RT @Banker__X: Today is the day the South African Reserve Bank’s Monetary Policy Committee (MPC) concludes its meeting and make an announce…\n",
            "RT @Banker__X: Today is the day the South African Reserve Bank’s Monetary Policy Committee (MPC) concludes its meeting and make an announce…\n",
            "#ECONOMISTS EXPECT #SouthAfrica #reserve #bank TO HIKE #REOP #RATE TO KEEP #inflation IN CHECK\n",
            "\n",
            "There is #consensus that the South African Reserve Bank will #increase the repo rate on Thursday afternoon, with the only #question being by how much\n",
            "\n",
            "#SouthAfrica \n",
            "#CostOfLivingCrisis https://t.co/46piIXO61L\n",
            "@PeensCFP did a brilliant thread on all things repo rate 🔥 https://t.co/YXtrIh6ZGH\n",
            "RT @kharge: IIP &lt; 2% for 5 months\n",
            "CPI: At an 8 year high\n",
            "WPI: At a 9 year high\n",
            "Trade deficit: All-time high\n",
            "Repo Rate: At a 2 year high\n",
            "Rup…\n",
            "RT @kharge: IIP &lt; 2% for 5 months\n",
            "CPI: At an 8 year high\n",
            "WPI: At a 9 year high\n",
            "Trade deficit: All-time high\n",
            "Repo Rate: At a 2 year high\n",
            "Rup…\n",
            "RT @Banker__X: Today is the day the South African Reserve Bank’s Monetary Policy Committee (MPC) concludes its meeting and make an announce…\n",
            "RT @kothariabhishek: Trend of GDP growth rate &amp; repo rate (of RBI) for reference https://t.co/HILCOGaJP5\n",
            "RT @kothariabhishek: Trend of GDP growth rate &amp; repo rate (of RBI) for reference https://t.co/HILCOGaJP5\n",
            "Trend of GDP growth rate &amp; repo rate (of RBI) for reference https://t.co/HILCOGaJP5\n",
            "RT @Banker__X: Today is the day the South African Reserve Bank’s Monetary Policy Committee (MPC) concludes its meeting and make an announce…\n",
            "Today is the day the South African Reserve Bank’s Monetary Policy Committee (MPC) concludes its meeting and make an announcement on the repo rate.\n",
            "\n",
            "Moody’s estimates that SA’s interest rate will touch 8% in 2022.\n",
            "\n",
            "Do you think the MPC will increase rates and if so, by how much?\n",
            "@SAReserveBank @KganyagoLesetja We know he will increase the repo rate, question is, is that helpful? If so, how?\n",
            "RT @pinkysithole17: The SARB may very well increase the repo rate by 50bps today. Those with savings accounts will celebrate higher interes…\n",
            "RT @pinkysithole17: The SARB may very well increase the repo rate by 50bps today. Those with savings accounts will celebrate higher interes…\n",
            "@kothariabhishek Is Repo rate expected to around 4.6% to 4.75% in near term?\n",
            "@kothariabhishek Why is the REPO rate chart in a reverse chronological order? Any particular reason sir?\n",
            "Mortgage bonds will be more expensive from today when SA central bank increases the Repo rate. Cry 😢\n",
            "RT @Contrarian_za: Tough times ahead for the next few months for consumers with rising inflation, possible interest rate hike by 50 basis p…\n",
            "market operations. Simply put The reverse repo rate helps to control the supply of money in the market.\n",
            "\n",
            "Currently the reverse repo rate at the Federal Reserve is 4.4% and is close to reaching 2 trillion dollars ($2,000,000,000,000) of overnight reverse repurchase agreements\n",
            "Repo Rate hike costs home loans interest rates\n",
            "https://t.co/kJs1NwqXq9 \n",
            "#reporate #homeloans #interestrates #inflation\n",
            "@AdeParimal Sir, how high repo rate will impact corporates earnings? \n",
            "It would be beneficial to banks?\n",
            "RT @Pitsere: Repo rate is likely to be increased by a 100 basis points. By the time y’all notice we are in a a predicament, it will be too…\n",
            "Repo rate is likely to be increased by a 100 basis points. By the time y’all notice we are in a a predicament, it will be too late!Tighten your belts now folks! Thank me later.\n",
            "@trevoricious14 Tough.... Until SARB decide to decrease the repo rate... Which is unlikely in the near future\n",
            "RT @kharge: IIP &lt; 2% for 5 months\n",
            "CPI: At an 8 year high\n",
            "WPI: At a 9 year high\n",
            "Trade deficit: All-time high\n",
            "Repo Rate: At a 2 year high\n",
            "Rup…\n",
            "@Rfsd44Syed Lol, who did this analysis? Google  (not sure if its allowed in pakistan) economy of world super powers in last 10yr,and then read the causes, and then paste bar chart here. NOTE: don't study inflation, repo rate, economy of pakistan, it may cause depression.\n",
            "RT @kharge: IIP &lt; 2% for 5 months\n",
            "CPI: At an 8 year high\n",
            "WPI: At a 9 year high\n",
            "Trade deficit: All-time high\n",
            "Repo Rate: At a 2 year high\n",
            "Rup…\n",
            "🟥 #Repo rate hike effect: Axis Bank raises MCLR by 35 bps\n",
            "#AxisBank increased its marginal cost of funds-based lending rates by 35 basis points. The lender has raised the MCLR for the second time in the last two months.\n",
            "https://t.co/1qpP6mVosT\n",
            "Repo rate is going to increase... Which will dictate the increase in prime lending rate... Meaning you'll pay more for loans... You'll have higher interest on your savings products... Investments\n",
            "RT @pinkysithole17: The SARB may very well increase the repo rate by 50bps today. Those with savings accounts will celebrate higher interes…\n",
            "The SARB may very well increase the repo rate by 50bps today. Those with savings accounts will celebrate higher interest income while those with debt will lament the higher cost of debt payments. \n",
            "\n",
            "What are you planning to do to mitigate increasing interest rates, food and fuel?\n",
            "@GillianYoungBe1 And just increase the repo rate because that seems to be the point of order later this afternoon!!! 😡 @PresidencyZA @WesternCapeGov @Our_DA\n",
            "RT @Newzroom405: The SA Reserve Bank is set to announce its interest rates decision today. SARB is widely expected to hike the repo rate by…\n",
            "RT @sandipsabharwal: Less than 10 years back Indian Monetary Policy was based on #WPI (Wholesale price index)\n",
            "Yesterday WPI was reported at…\n",
            "RT @KingKong9888: In a reverse repo, an investor (governmental entity) owns securities, such as a Treasury note, U.S. government agency bon…\n",
            "Tough times ahead for the next few months for consumers with rising inflation, possible interest rate hike by 50 basis points and rising fuel costs.\n",
            "SARB will likely increase the repo rate today either by 25bp or 50 bp to curb inflation.\n",
            "RT @AdeParimal: Impact of Repo Rate Hike on Stock Market! \n",
            "Plz do retweet for max reach🙏🏻🙏🏻🙏🏻 https://t.co/QxwQqKYcYe\n",
            "RT @Newzroom405: The SA Reserve Bank is set to announce its interest rates decision today. SARB is widely expected to hike the repo rate by…\n",
            "RT @Newzroom405: The SA Reserve Bank is set to announce its interest rates decision today. SARB is widely expected to hike the repo rate by…\n",
            "RT @Newzroom405: The SA Reserve Bank is set to announce its interest rates decision today. SARB is widely expected to hike the repo rate by…\n",
            "The SA Reserve Bank is set to announce its interest rates decision today. SARB is widely expected to hike the repo rate by 50 basis points. @KopanoGumbi speaks to Genera Capital's Adrian Saville.\n",
            "\n",
            "Watch: https://t.co/JNUCVqAI4G\n",
            "\n",
            "#Newzroom405 https://t.co/pmsZlzT9Rl\n",
            "More frontloaded rate hikes appear to be on their way, with the \"MPC keen, in our view, to take the repo rate to its pre-pandemic level of 5.15% from 4.40% soon\", according to Nomura's Sonal Varma and Aurodeep Nandi. \n",
            "\n",
            "Read more: https://t.co/dYdGUFBwqS https://t.co/onfjX0UG0x\n",
            "RT @CNBCTV18Live: #OnCNBCTV18 | Repo rate cycle will peak off at 5.5%. Government Bond yields will stabilise in the coming months, says Suy…\n",
            "On top of everything, the reserve bank is expected to hike the repo rate. Lord help us.\n",
            "Sharp [rate] increases also destabilize financial markets. But highly negative rates contribute to overheating. It is necessary to proceed carefully says Ashima Goyal in an interview to @bsindia\n",
            "#RBI had hiked repo rate by 40bps early May. \n",
            "#monetaryPolicy\n",
            "https://t.co/RdvhaZtrHy\n",
            "Dear Customer, KMB Repo Rate has been revised wef 16 May 22 to 4.40 % p.a. The rate of interest on your loan account no. .. therefore stands revised from 6.75 % p.a to 7.15 % p.a.\n",
            "So Effectively 5 Months Tenure Increased but still waiting for Subsidy (MIG) since last 14 Months.\n",
            "https://t.co/OMMCpEKv4b\n",
            "How Inflation is controlled by increasing  Repo Rate\n",
            "#inflation #RBI #shaktikantadas @RBI @nsitharaman @DasShaktikanta\n",
            "RT @CNBCTV18Live: #OnCNBCTV18 | Repo rate cycle will peak off at 5.5%. Government Bond yields will stabilise in the coming months, says Suy…\n",
            "Repo rate hikes can not be effective in controlling crude oil prices rising globally .\n",
            "So GOI should intervene and effect some fiscal measures such as reducing excise duty on petroleum products .\n",
            "RT @kharge: IIP &lt; 2% for 5 months\n",
            "CPI: At an 8 year high\n",
            "WPI: At a 9 year high\n",
            "Trade deficit: All-time high\n",
            "Repo Rate: At a 2 year high\n",
            "Rup…\n",
            "Incoming repo rate hike expected from SARB.\n",
            "makhi you can say that again. Looking at Repo rate increase also knocking..😭😭😭 https://t.co/69mGkneqca\n",
            "RT @kharge: IIP &lt; 2% for 5 months\n",
            "CPI: At an 8 year high\n",
            "WPI: At a 9 year high\n",
            "Trade deficit: All-time high\n",
            "Repo Rate: At a 2 year high\n",
            "Rup…\n",
            "@AdeParimal sir, with increased Repo rate from RBI ideally banks should decrease their FD interest % but I'm hearing that they are increasing it on the contrary.. any specific reason?\n",
            "@CNBCTV18Live I have exactly same opinion on repo rate as the current inflation is because of supply side problems and certainly not because of rampant demand. @PMOIndia @NITIAayog @EACtoPM @FinMinIndia @RBI @IMFNews @ecb @federalreserve @Lagarde @GitaGopinath @SecYellen @latha_venkatesh\n",
            "RT @kharge: IIP &lt; 2% for 5 months\n",
            "CPI: At an 8 year high\n",
            "WPI: At a 9 year high\n",
            "Trade deficit: All-time high\n",
            "Repo Rate: At a 2 year high\n",
            "Rup…\n",
            "RT @CNBCTV18Live: #OnCNBCTV18 | Repo rate cycle will peak off at 5.5%. Government Bond yields will stabilise in the coming months, says Suy…\n",
            "#OnCNBCTV18 | Repo rate cycle will peak off at 5.5%. Government Bond yields will stabilise in the coming months, says Suyash Choudhary of IDFC Mutual Fund https://t.co/ZJtepgNtDn\n",
            "RT @kharge: IIP &lt; 2% for 5 months\n",
            "CPI: At an 8 year high\n",
            "WPI: At a 9 year high\n",
            "Trade deficit: All-time high\n",
            "Repo Rate: At a 2 year high\n",
            "Rup…\n",
            "@CARubyAnsari Not really, I trust the situation would normalise in upcoming days, since the repo rate is increased the interest rate would increase and make debt unattractive to business man and they have started to pull the money out of stock market. It’s just an artificial inflation.\n",
            "Hi @LIC_HFL team,\n",
            "I have paid for interest rate reduction from the customer portal(before RBI increased the repo rate) and as expected interest rate got reduced but neither my EMI amount reduced nor tenure reduced. Kindly check.\n",
            "Ticket Ref no: REQ-KT-016270.\n",
            "#RBI on 4 May raised the repo rate by 40 bps to 4.40% after an urgent meeting of the rate-setting panel, the first rate hike since the pandemic outbreak in 2020. \n",
            "\n",
            "(@GopikaGopa reports)\n",
            "https://t.co/oqXRWg4Vli\n",
            "In a reverse repo, an investor (governmental entity) owns securities, such as a Treasury note, U.S. government agency bond or other security, that a bank or dealer purchases under an agreement and sells back to an investor on a specified date, at an agreed-upon interest rate.\n",
            "#Repo crisis 2.0 unleased....Interest rate hedged high yield bond ishare ETF screams...bail me out...bail me out....Liquidity crunch is certainly much bigger then 2019 repo crisis. Fed...Fed...save me...save me..( An outsider and fence sitter's observation) https://t.co/8V9AFRKTvU\n",
            "RT @kharge: IIP &lt; 2% for 5 months\n",
            "CPI: At an 8 year high\n",
            "WPI: At a 9 year high\n",
            "Trade deficit: All-time high\n",
            "Repo Rate: At a 2 year high\n",
            "Rup…\n",
            "RT @kharge: IIP &lt; 2% for 5 months\n",
            "CPI: At an 8 year high\n",
            "WPI: At a 9 year high\n",
            "Trade deficit: All-time high\n",
            "Repo Rate: At a 2 year high\n",
            "Rup…\n",
            "In the place of repo rate indirect taxes of state should be decrease. Toh ye control main hota. Jitna cash flow honga utni paise ki power ghatengi. https://t.co/noWaUnDZ39\n",
            "@uzi_ur @biharigurl Inflation happens not only coz of repo rate \n",
            "Repo rate is just very small thing\n",
            "War supply of wheat sanctions on Russia \n",
            "Are the prime factors these days\n",
            "RT @kharge: IIP &lt; 2% for 5 months\n",
            "CPI: At an 8 year high\n",
            "WPI: At a 9 year high\n",
            "Trade deficit: All-time high\n",
            "Repo Rate: At a 2 year high\n",
            "Rup…\n",
            "@nocareperson @biharigurl Because other countries have lower interest than us. Our repo rate at 4.4% US, UK &amp; EU at &lt;= 1%.\n",
            "@AnilSinghvi_ #AskZeeBuisness #AskZeeBuisness in this period of hiked inflation where interest rate is going to rise in coming months should we link our home loans to repo rate instead of MCLR?\n",
            "The rupee has been falling fast against the dollar, putting further pressure on commodity prices and forcing the central bank to intervene. Last week, the Reserve Bank of India increased the repo rate, pushing up the borrowing cost for companies and consumers.\n",
            "@DarvasTrading @AlexTeha The last piece to the puzzle, Why FED is playing reverse repo until today, while they can simply stop. \n",
            "\n",
            "Because FED doesn’t want to do QT, reverse Repo is a mean of temporarily sucking cash without destroying it.\n",
            "All this cash will hit the market later (or US gov) at higher rate\n",
            "@DarvasTrading @AlexTeha This is QE/QT version 2.0\n",
            "\n",
            "the term Reverse Repo, appeared the first time late 2020.\n",
            "When the FED became net borrower of cash. when too much cash was in the system and no bank needed it.\n",
            "Remember; in REPO deal, the cash recipient pays interest, higher than overnight rate.\n",
            "RT @Capital_Hungry: CHINA https://t.co/TSPsnmexh1 SAYS SETS 7-DAY REVERSE REPO RATE AT 2.10% VS 2.10% PREVIOUSLY #News #Forex #CHINA\n",
            "Centre won't trim its Capex plan despite inflation running hot In a surprise move, the Reserve Bank of India (RBI) had earlier this month raised the repo rate by 0.4 percentage point to 4.4% to tame runaway inflation that... #News by #EconomicTimes https://t.co/ONIYIMIUZh\n",
            "#RBI on 4 May raised the repo rate by 40 bps to 4.40% after an urgent meeting of the rate-setting panel, the first rate hike since the pandemic outbreak in 2020. \n",
            "\n",
            "https://t.co/oqXRWgmwcQ\n",
            "RT @kharge: IIP &lt; 2% for 5 months\n",
            "CPI: At an 8 year high\n",
            "WPI: At a 9 year high\n",
            "Trade deficit: All-time high\n",
            "Repo Rate: At a 2 year high\n",
            "Rup…\n",
            "RT @kharge: IIP &lt; 2% for 5 months\n",
            "CPI: At an 8 year high\n",
            "WPI: At a 9 year high\n",
            "Trade deficit: All-time high\n",
            "Repo Rate: At a 2 year high\n",
            "Rup…\n",
            "RT @__ZionLion__: money cost more, to the rich.\n",
            "a bit more, in increments.\n",
            "\n",
            "$SPX\n",
            "#RRP \n",
            "#FED_QE \n",
            "#REPO_RATE https://t.co/YcAC254MVZ\n",
            "RT @__ZionLion__: FED TIGHTENS THE ECONOMY\n",
            "\n",
            "MONEY STARTING TO COST THE RICH\n",
            "A LITTLE BIT MORE\n",
            "IN INCREMENTS\n",
            "\n",
            "#FED_BALANCE \n",
            "#SP500 \n",
            "#1_MONTH…\n",
            "the repo-rate should be increased &amp; if so, by how much. Consider that salaried middle-income consumers with secured &amp; unsecured credit spend, on average, 30% of their income on unsecured credit &amp; 35% on secured credit, according to FNB. Hiking rates will mean that the ability for\n",
            "CHINA https://t.co/TSPsnmexh1 SAYS SETS 7-DAY REVERSE REPO RATE AT 2.10% VS 2.10% PREVIOUSLY #News #Forex #CHINA\n",
            "@WallWorry @DiMartinoBooth Reverse repo is a sign of excessive cash in the system relevant to bonds (collaterals)\n",
            "\n",
            "But it’s counter intuitive, since the market is already short on dollars.\n",
            "\n",
            "UNLESS reverse repo is still paying higher interest than overnight rate.\n",
            "'RBI rate hike was moderate as CRR was also raised': Ashima Goyal Monetary policy committee says decision to cut repo rate was at the correct time. #Latest News by #BusinessStandard https://t.co/WUatuxxTjW\n",
            "RT @FedRepo: Federal Reserve accepts $1877.483 billion in reverse repo agreements from 90 counterparties, paying them an interest rate of 0…\n"
          ]
        }
      ]
    },
    {
      "cell_type": "code",
      "source": [
        "tweetss =[]\n",
        "for tweet in tweets:\n",
        "  tweetss.append(tweet.full_text)\n"
      ],
      "metadata": {
        "id": "6o_ZZkiJjL84"
      },
      "execution_count": null,
      "outputs": []
    },
    {
      "cell_type": "code",
      "source": [
        "df = pd.DataFrame(tweetss, columns = ['Tweets'])"
      ],
      "metadata": {
        "id": "uVnOuCgAJG-E"
      },
      "execution_count": null,
      "outputs": []
    },
    {
      "cell_type": "code",
      "source": [
        "df"
      ],
      "metadata": {
        "colab": {
          "base_uri": "https://localhost:8080/",
          "height": 424
        },
        "id": "Ek5SaDo5JeSc",
        "outputId": "d5aa0500-573f-48f3-d22b-375be8b7bf6c"
      },
      "execution_count": null,
      "outputs": [
        {
          "output_type": "execute_result",
          "data": {
            "text/plain": [
              "                                               Tweets\n",
              "0   RT @DamnYeahCrypto: @42macroDDale He will do a...\n",
              "1   RT @ScottSkyrm: The Repo rate corridor is an u...\n",
              "2   How RBI's repo rate hike has pushed small fina...\n",
              "3   RT @kharge: IIP &lt; 2% for 5 months\\nCPI: At ...\n",
              "4   RT @pinkysithole17: The SARB may very well inc...\n",
              "..                                                ...\n",
              "95  the repo-rate should be increased &amp; if so,...\n",
              "96  CHINA https://t.co/TSPsnmexh1 SAYS SETS 7-DAY ...\n",
              "97  @WallWorry @DiMartinoBooth Reverse repo is a s...\n",
              "98  'RBI rate hike was moderate as CRR was also ra...\n",
              "99  RT @FedRepo: Federal Reserve accepts $1877.483...\n",
              "\n",
              "[100 rows x 1 columns]"
            ],
            "text/html": [
              "\n",
              "  <div id=\"df-28b18b83-eff5-4c4a-9a4a-13937afe241b\">\n",
              "    <div class=\"colab-df-container\">\n",
              "      <div>\n",
              "<style scoped>\n",
              "    .dataframe tbody tr th:only-of-type {\n",
              "        vertical-align: middle;\n",
              "    }\n",
              "\n",
              "    .dataframe tbody tr th {\n",
              "        vertical-align: top;\n",
              "    }\n",
              "\n",
              "    .dataframe thead th {\n",
              "        text-align: right;\n",
              "    }\n",
              "</style>\n",
              "<table border=\"1\" class=\"dataframe\">\n",
              "  <thead>\n",
              "    <tr style=\"text-align: right;\">\n",
              "      <th></th>\n",
              "      <th>Tweets</th>\n",
              "    </tr>\n",
              "  </thead>\n",
              "  <tbody>\n",
              "    <tr>\n",
              "      <th>0</th>\n",
              "      <td>RT @DamnYeahCrypto: @42macroDDale He will do a...</td>\n",
              "    </tr>\n",
              "    <tr>\n",
              "      <th>1</th>\n",
              "      <td>RT @ScottSkyrm: The Repo rate corridor is an u...</td>\n",
              "    </tr>\n",
              "    <tr>\n",
              "      <th>2</th>\n",
              "      <td>How RBI's repo rate hike has pushed small fina...</td>\n",
              "    </tr>\n",
              "    <tr>\n",
              "      <th>3</th>\n",
              "      <td>RT @kharge: IIP &amp;lt; 2% for 5 months\\nCPI: At ...</td>\n",
              "    </tr>\n",
              "    <tr>\n",
              "      <th>4</th>\n",
              "      <td>RT @pinkysithole17: The SARB may very well inc...</td>\n",
              "    </tr>\n",
              "    <tr>\n",
              "      <th>...</th>\n",
              "      <td>...</td>\n",
              "    </tr>\n",
              "    <tr>\n",
              "      <th>95</th>\n",
              "      <td>the repo-rate should be increased &amp;amp; if so,...</td>\n",
              "    </tr>\n",
              "    <tr>\n",
              "      <th>96</th>\n",
              "      <td>CHINA https://t.co/TSPsnmexh1 SAYS SETS 7-DAY ...</td>\n",
              "    </tr>\n",
              "    <tr>\n",
              "      <th>97</th>\n",
              "      <td>@WallWorry @DiMartinoBooth Reverse repo is a s...</td>\n",
              "    </tr>\n",
              "    <tr>\n",
              "      <th>98</th>\n",
              "      <td>'RBI rate hike was moderate as CRR was also ra...</td>\n",
              "    </tr>\n",
              "    <tr>\n",
              "      <th>99</th>\n",
              "      <td>RT @FedRepo: Federal Reserve accepts $1877.483...</td>\n",
              "    </tr>\n",
              "  </tbody>\n",
              "</table>\n",
              "<p>100 rows × 1 columns</p>\n",
              "</div>\n",
              "      <button class=\"colab-df-convert\" onclick=\"convertToInteractive('df-28b18b83-eff5-4c4a-9a4a-13937afe241b')\"\n",
              "              title=\"Convert this dataframe to an interactive table.\"\n",
              "              style=\"display:none;\">\n",
              "        \n",
              "  <svg xmlns=\"http://www.w3.org/2000/svg\" height=\"24px\"viewBox=\"0 0 24 24\"\n",
              "       width=\"24px\">\n",
              "    <path d=\"M0 0h24v24H0V0z\" fill=\"none\"/>\n",
              "    <path d=\"M18.56 5.44l.94 2.06.94-2.06 2.06-.94-2.06-.94-.94-2.06-.94 2.06-2.06.94zm-11 1L8.5 8.5l.94-2.06 2.06-.94-2.06-.94L8.5 2.5l-.94 2.06-2.06.94zm10 10l.94 2.06.94-2.06 2.06-.94-2.06-.94-.94-2.06-.94 2.06-2.06.94z\"/><path d=\"M17.41 7.96l-1.37-1.37c-.4-.4-.92-.59-1.43-.59-.52 0-1.04.2-1.43.59L10.3 9.45l-7.72 7.72c-.78.78-.78 2.05 0 2.83L4 21.41c.39.39.9.59 1.41.59.51 0 1.02-.2 1.41-.59l7.78-7.78 2.81-2.81c.8-.78.8-2.07 0-2.86zM5.41 20L4 18.59l7.72-7.72 1.47 1.35L5.41 20z\"/>\n",
              "  </svg>\n",
              "      </button>\n",
              "      \n",
              "  <style>\n",
              "    .colab-df-container {\n",
              "      display:flex;\n",
              "      flex-wrap:wrap;\n",
              "      gap: 12px;\n",
              "    }\n",
              "\n",
              "    .colab-df-convert {\n",
              "      background-color: #E8F0FE;\n",
              "      border: none;\n",
              "      border-radius: 50%;\n",
              "      cursor: pointer;\n",
              "      display: none;\n",
              "      fill: #1967D2;\n",
              "      height: 32px;\n",
              "      padding: 0 0 0 0;\n",
              "      width: 32px;\n",
              "    }\n",
              "\n",
              "    .colab-df-convert:hover {\n",
              "      background-color: #E2EBFA;\n",
              "      box-shadow: 0px 1px 2px rgba(60, 64, 67, 0.3), 0px 1px 3px 1px rgba(60, 64, 67, 0.15);\n",
              "      fill: #174EA6;\n",
              "    }\n",
              "\n",
              "    [theme=dark] .colab-df-convert {\n",
              "      background-color: #3B4455;\n",
              "      fill: #D2E3FC;\n",
              "    }\n",
              "\n",
              "    [theme=dark] .colab-df-convert:hover {\n",
              "      background-color: #434B5C;\n",
              "      box-shadow: 0px 1px 3px 1px rgba(0, 0, 0, 0.15);\n",
              "      filter: drop-shadow(0px 1px 2px rgba(0, 0, 0, 0.3));\n",
              "      fill: #FFFFFF;\n",
              "    }\n",
              "  </style>\n",
              "\n",
              "      <script>\n",
              "        const buttonEl =\n",
              "          document.querySelector('#df-28b18b83-eff5-4c4a-9a4a-13937afe241b button.colab-df-convert');\n",
              "        buttonEl.style.display =\n",
              "          google.colab.kernel.accessAllowed ? 'block' : 'none';\n",
              "\n",
              "        async function convertToInteractive(key) {\n",
              "          const element = document.querySelector('#df-28b18b83-eff5-4c4a-9a4a-13937afe241b');\n",
              "          const dataTable =\n",
              "            await google.colab.kernel.invokeFunction('convertToInteractive',\n",
              "                                                     [key], {});\n",
              "          if (!dataTable) return;\n",
              "\n",
              "          const docLinkHtml = 'Like what you see? Visit the ' +\n",
              "            '<a target=\"_blank\" href=https://colab.research.google.com/notebooks/data_table.ipynb>data table notebook</a>'\n",
              "            + ' to learn more about interactive tables.';\n",
              "          element.innerHTML = '';\n",
              "          dataTable['output_type'] = 'display_data';\n",
              "          await google.colab.output.renderOutput(dataTable, element);\n",
              "          const docLink = document.createElement('div');\n",
              "          docLink.innerHTML = docLinkHtml;\n",
              "          element.appendChild(docLink);\n",
              "        }\n",
              "      </script>\n",
              "    </div>\n",
              "  </div>\n",
              "  "
            ]
          },
          "metadata": {},
          "execution_count": 8
        }
      ]
    },
    {
      "cell_type": "code",
      "source": [
        "# clean the tweets\n",
        "\n",
        "def clean_text(text):\n",
        "  text = re.sub(r'@[A-Za-z0-9]+', '', text)\n",
        "  text = re.sub(r'#', '', text)\n",
        "  text = re.sub(r'RT_[A-Za-z0-9]:+', '', text)\n",
        "  text = re.sub(r'https?:\\/\\/\\S+', '',text)\n",
        "  return text\n",
        "\n",
        "df['Tweets'] = df['Tweets'].apply(clean_text)\n"
      ],
      "metadata": {
        "id": "npCzt0lLJ0CA"
      },
      "execution_count": null,
      "outputs": []
    },
    {
      "cell_type": "code",
      "source": [
        "df"
      ],
      "metadata": {
        "colab": {
          "base_uri": "https://localhost:8080/",
          "height": 424
        },
        "id": "ZIUeVuthLpVF",
        "outputId": "03e2b07e-e65b-407a-f8f0-10fbc796a2d7"
      },
      "execution_count": null,
      "outputs": [
        {
          "output_type": "execute_result",
          "data": {
            "text/plain": [
              "                                               Tweets\n",
              "0   RT :  He will do a stealth pivot by lowering t...\n",
              "1   RT : The Repo rate corridor is an unofficial f...\n",
              "2   How RBI's repo rate hike has pushed small fina...\n",
              "3   RT : IIP &lt; 2% for 5 months\\nCPI: At an 8 ye...\n",
              "4   RT : The SARB may very well increase the repo ...\n",
              "..                                                ...\n",
              "95  the repo-rate should be increased &amp; if so,...\n",
              "96  CHINA  SAYS SETS 7-DAY REVERSE REPO RATE AT 2....\n",
              "97    Reverse repo is a sign of excessive cash in ...\n",
              "98  'RBI rate hike was moderate as CRR was also ra...\n",
              "99  RT : Federal Reserve accepts $1877.483 billion...\n",
              "\n",
              "[100 rows x 1 columns]"
            ],
            "text/html": [
              "\n",
              "  <div id=\"df-c7c5e845-a489-4c98-8e76-8c229fb66c9d\">\n",
              "    <div class=\"colab-df-container\">\n",
              "      <div>\n",
              "<style scoped>\n",
              "    .dataframe tbody tr th:only-of-type {\n",
              "        vertical-align: middle;\n",
              "    }\n",
              "\n",
              "    .dataframe tbody tr th {\n",
              "        vertical-align: top;\n",
              "    }\n",
              "\n",
              "    .dataframe thead th {\n",
              "        text-align: right;\n",
              "    }\n",
              "</style>\n",
              "<table border=\"1\" class=\"dataframe\">\n",
              "  <thead>\n",
              "    <tr style=\"text-align: right;\">\n",
              "      <th></th>\n",
              "      <th>Tweets</th>\n",
              "    </tr>\n",
              "  </thead>\n",
              "  <tbody>\n",
              "    <tr>\n",
              "      <th>0</th>\n",
              "      <td>RT :  He will do a stealth pivot by lowering t...</td>\n",
              "    </tr>\n",
              "    <tr>\n",
              "      <th>1</th>\n",
              "      <td>RT : The Repo rate corridor is an unofficial f...</td>\n",
              "    </tr>\n",
              "    <tr>\n",
              "      <th>2</th>\n",
              "      <td>How RBI's repo rate hike has pushed small fina...</td>\n",
              "    </tr>\n",
              "    <tr>\n",
              "      <th>3</th>\n",
              "      <td>RT : IIP &amp;lt; 2% for 5 months\\nCPI: At an 8 ye...</td>\n",
              "    </tr>\n",
              "    <tr>\n",
              "      <th>4</th>\n",
              "      <td>RT : The SARB may very well increase the repo ...</td>\n",
              "    </tr>\n",
              "    <tr>\n",
              "      <th>...</th>\n",
              "      <td>...</td>\n",
              "    </tr>\n",
              "    <tr>\n",
              "      <th>95</th>\n",
              "      <td>the repo-rate should be increased &amp;amp; if so,...</td>\n",
              "    </tr>\n",
              "    <tr>\n",
              "      <th>96</th>\n",
              "      <td>CHINA  SAYS SETS 7-DAY REVERSE REPO RATE AT 2....</td>\n",
              "    </tr>\n",
              "    <tr>\n",
              "      <th>97</th>\n",
              "      <td>Reverse repo is a sign of excessive cash in ...</td>\n",
              "    </tr>\n",
              "    <tr>\n",
              "      <th>98</th>\n",
              "      <td>'RBI rate hike was moderate as CRR was also ra...</td>\n",
              "    </tr>\n",
              "    <tr>\n",
              "      <th>99</th>\n",
              "      <td>RT : Federal Reserve accepts $1877.483 billion...</td>\n",
              "    </tr>\n",
              "  </tbody>\n",
              "</table>\n",
              "<p>100 rows × 1 columns</p>\n",
              "</div>\n",
              "      <button class=\"colab-df-convert\" onclick=\"convertToInteractive('df-c7c5e845-a489-4c98-8e76-8c229fb66c9d')\"\n",
              "              title=\"Convert this dataframe to an interactive table.\"\n",
              "              style=\"display:none;\">\n",
              "        \n",
              "  <svg xmlns=\"http://www.w3.org/2000/svg\" height=\"24px\"viewBox=\"0 0 24 24\"\n",
              "       width=\"24px\">\n",
              "    <path d=\"M0 0h24v24H0V0z\" fill=\"none\"/>\n",
              "    <path d=\"M18.56 5.44l.94 2.06.94-2.06 2.06-.94-2.06-.94-.94-2.06-.94 2.06-2.06.94zm-11 1L8.5 8.5l.94-2.06 2.06-.94-2.06-.94L8.5 2.5l-.94 2.06-2.06.94zm10 10l.94 2.06.94-2.06 2.06-.94-2.06-.94-.94-2.06-.94 2.06-2.06.94z\"/><path d=\"M17.41 7.96l-1.37-1.37c-.4-.4-.92-.59-1.43-.59-.52 0-1.04.2-1.43.59L10.3 9.45l-7.72 7.72c-.78.78-.78 2.05 0 2.83L4 21.41c.39.39.9.59 1.41.59.51 0 1.02-.2 1.41-.59l7.78-7.78 2.81-2.81c.8-.78.8-2.07 0-2.86zM5.41 20L4 18.59l7.72-7.72 1.47 1.35L5.41 20z\"/>\n",
              "  </svg>\n",
              "      </button>\n",
              "      \n",
              "  <style>\n",
              "    .colab-df-container {\n",
              "      display:flex;\n",
              "      flex-wrap:wrap;\n",
              "      gap: 12px;\n",
              "    }\n",
              "\n",
              "    .colab-df-convert {\n",
              "      background-color: #E8F0FE;\n",
              "      border: none;\n",
              "      border-radius: 50%;\n",
              "      cursor: pointer;\n",
              "      display: none;\n",
              "      fill: #1967D2;\n",
              "      height: 32px;\n",
              "      padding: 0 0 0 0;\n",
              "      width: 32px;\n",
              "    }\n",
              "\n",
              "    .colab-df-convert:hover {\n",
              "      background-color: #E2EBFA;\n",
              "      box-shadow: 0px 1px 2px rgba(60, 64, 67, 0.3), 0px 1px 3px 1px rgba(60, 64, 67, 0.15);\n",
              "      fill: #174EA6;\n",
              "    }\n",
              "\n",
              "    [theme=dark] .colab-df-convert {\n",
              "      background-color: #3B4455;\n",
              "      fill: #D2E3FC;\n",
              "    }\n",
              "\n",
              "    [theme=dark] .colab-df-convert:hover {\n",
              "      background-color: #434B5C;\n",
              "      box-shadow: 0px 1px 3px 1px rgba(0, 0, 0, 0.15);\n",
              "      filter: drop-shadow(0px 1px 2px rgba(0, 0, 0, 0.3));\n",
              "      fill: #FFFFFF;\n",
              "    }\n",
              "  </style>\n",
              "\n",
              "      <script>\n",
              "        const buttonEl =\n",
              "          document.querySelector('#df-c7c5e845-a489-4c98-8e76-8c229fb66c9d button.colab-df-convert');\n",
              "        buttonEl.style.display =\n",
              "          google.colab.kernel.accessAllowed ? 'block' : 'none';\n",
              "\n",
              "        async function convertToInteractive(key) {\n",
              "          const element = document.querySelector('#df-c7c5e845-a489-4c98-8e76-8c229fb66c9d');\n",
              "          const dataTable =\n",
              "            await google.colab.kernel.invokeFunction('convertToInteractive',\n",
              "                                                     [key], {});\n",
              "          if (!dataTable) return;\n",
              "\n",
              "          const docLinkHtml = 'Like what you see? Visit the ' +\n",
              "            '<a target=\"_blank\" href=https://colab.research.google.com/notebooks/data_table.ipynb>data table notebook</a>'\n",
              "            + ' to learn more about interactive tables.';\n",
              "          element.innerHTML = '';\n",
              "          dataTable['output_type'] = 'display_data';\n",
              "          await google.colab.output.renderOutput(dataTable, element);\n",
              "          const docLink = document.createElement('div');\n",
              "          docLink.innerHTML = docLinkHtml;\n",
              "          element.appendChild(docLink);\n",
              "        }\n",
              "      </script>\n",
              "    </div>\n",
              "  </div>\n",
              "  "
            ]
          },
          "metadata": {},
          "execution_count": 18
        }
      ]
    },
    {
      "cell_type": "code",
      "source": [
        "# getting subjectivity and polarity\n",
        "def get_subjectivity(tweet):\n",
        "  subjectivity =TextBlob(tweet).sentiment.subjectivity\n",
        "  return subjectivity\n",
        "\n",
        "def get_polarity(tweet):\n",
        "  polarity = TextBlob(tweet).sentiment.polarity\n",
        "  return polarity"
      ],
      "metadata": {
        "id": "pdC_BUFYMeXw"
      },
      "execution_count": null,
      "outputs": []
    },
    {
      "cell_type": "code",
      "source": [
        "df['Subjectivity'] = df['Tweets'].apply(get_subjectivity)\n",
        "df['Polarity'] = df['Tweets'].apply(get_polarity)"
      ],
      "metadata": {
        "id": "oG_J9q-CNe54"
      },
      "execution_count": null,
      "outputs": []
    },
    {
      "cell_type": "code",
      "source": [
        "df.head()"
      ],
      "metadata": {
        "colab": {
          "base_uri": "https://localhost:8080/",
          "height": 206
        },
        "id": "MucZJTiTN3hr",
        "outputId": "67ac669a-60d6-4500-a985-9a6d07357564"
      },
      "execution_count": null,
      "outputs": [
        {
          "output_type": "execute_result",
          "data": {
            "text/plain": [
              "                                              Tweets  Subjectivity  Polarity\n",
              "0  RT : Alert: Repo rate increased for the first ...      0.333333   0.25000\n",
              "1  RT : Impact of Repo Rate Hike on Stock Market!...      0.000000   0.00000\n",
              "2  RT _venkatesh: 3/ Also key to note, Governor’s...      1.000000   0.00000\n",
              "3  RT : RBI hiked Repo rate by 40 basis points to...      0.453750   0.15875\n",
              "4  RT : RBI just raised the repo rate 😱 and the s...      0.687500  -0.31250"
            ],
            "text/html": [
              "\n",
              "  <div id=\"df-bc22f9b4-ae2b-4d9f-b008-e2d5226681ad\">\n",
              "    <div class=\"colab-df-container\">\n",
              "      <div>\n",
              "<style scoped>\n",
              "    .dataframe tbody tr th:only-of-type {\n",
              "        vertical-align: middle;\n",
              "    }\n",
              "\n",
              "    .dataframe tbody tr th {\n",
              "        vertical-align: top;\n",
              "    }\n",
              "\n",
              "    .dataframe thead th {\n",
              "        text-align: right;\n",
              "    }\n",
              "</style>\n",
              "<table border=\"1\" class=\"dataframe\">\n",
              "  <thead>\n",
              "    <tr style=\"text-align: right;\">\n",
              "      <th></th>\n",
              "      <th>Tweets</th>\n",
              "      <th>Subjectivity</th>\n",
              "      <th>Polarity</th>\n",
              "    </tr>\n",
              "  </thead>\n",
              "  <tbody>\n",
              "    <tr>\n",
              "      <th>0</th>\n",
              "      <td>RT : Alert: Repo rate increased for the first ...</td>\n",
              "      <td>0.333333</td>\n",
              "      <td>0.25000</td>\n",
              "    </tr>\n",
              "    <tr>\n",
              "      <th>1</th>\n",
              "      <td>RT : Impact of Repo Rate Hike on Stock Market!...</td>\n",
              "      <td>0.000000</td>\n",
              "      <td>0.00000</td>\n",
              "    </tr>\n",
              "    <tr>\n",
              "      <th>2</th>\n",
              "      <td>RT _venkatesh: 3/ Also key to note, Governor’s...</td>\n",
              "      <td>1.000000</td>\n",
              "      <td>0.00000</td>\n",
              "    </tr>\n",
              "    <tr>\n",
              "      <th>3</th>\n",
              "      <td>RT : RBI hiked Repo rate by 40 basis points to...</td>\n",
              "      <td>0.453750</td>\n",
              "      <td>0.15875</td>\n",
              "    </tr>\n",
              "    <tr>\n",
              "      <th>4</th>\n",
              "      <td>RT : RBI just raised the repo rate 😱 and the s...</td>\n",
              "      <td>0.687500</td>\n",
              "      <td>-0.31250</td>\n",
              "    </tr>\n",
              "  </tbody>\n",
              "</table>\n",
              "</div>\n",
              "      <button class=\"colab-df-convert\" onclick=\"convertToInteractive('df-bc22f9b4-ae2b-4d9f-b008-e2d5226681ad')\"\n",
              "              title=\"Convert this dataframe to an interactive table.\"\n",
              "              style=\"display:none;\">\n",
              "        \n",
              "  <svg xmlns=\"http://www.w3.org/2000/svg\" height=\"24px\"viewBox=\"0 0 24 24\"\n",
              "       width=\"24px\">\n",
              "    <path d=\"M0 0h24v24H0V0z\" fill=\"none\"/>\n",
              "    <path d=\"M18.56 5.44l.94 2.06.94-2.06 2.06-.94-2.06-.94-.94-2.06-.94 2.06-2.06.94zm-11 1L8.5 8.5l.94-2.06 2.06-.94-2.06-.94L8.5 2.5l-.94 2.06-2.06.94zm10 10l.94 2.06.94-2.06 2.06-.94-2.06-.94-.94-2.06-.94 2.06-2.06.94z\"/><path d=\"M17.41 7.96l-1.37-1.37c-.4-.4-.92-.59-1.43-.59-.52 0-1.04.2-1.43.59L10.3 9.45l-7.72 7.72c-.78.78-.78 2.05 0 2.83L4 21.41c.39.39.9.59 1.41.59.51 0 1.02-.2 1.41-.59l7.78-7.78 2.81-2.81c.8-.78.8-2.07 0-2.86zM5.41 20L4 18.59l7.72-7.72 1.47 1.35L5.41 20z\"/>\n",
              "  </svg>\n",
              "      </button>\n",
              "      \n",
              "  <style>\n",
              "    .colab-df-container {\n",
              "      display:flex;\n",
              "      flex-wrap:wrap;\n",
              "      gap: 12px;\n",
              "    }\n",
              "\n",
              "    .colab-df-convert {\n",
              "      background-color: #E8F0FE;\n",
              "      border: none;\n",
              "      border-radius: 50%;\n",
              "      cursor: pointer;\n",
              "      display: none;\n",
              "      fill: #1967D2;\n",
              "      height: 32px;\n",
              "      padding: 0 0 0 0;\n",
              "      width: 32px;\n",
              "    }\n",
              "\n",
              "    .colab-df-convert:hover {\n",
              "      background-color: #E2EBFA;\n",
              "      box-shadow: 0px 1px 2px rgba(60, 64, 67, 0.3), 0px 1px 3px 1px rgba(60, 64, 67, 0.15);\n",
              "      fill: #174EA6;\n",
              "    }\n",
              "\n",
              "    [theme=dark] .colab-df-convert {\n",
              "      background-color: #3B4455;\n",
              "      fill: #D2E3FC;\n",
              "    }\n",
              "\n",
              "    [theme=dark] .colab-df-convert:hover {\n",
              "      background-color: #434B5C;\n",
              "      box-shadow: 0px 1px 3px 1px rgba(0, 0, 0, 0.15);\n",
              "      filter: drop-shadow(0px 1px 2px rgba(0, 0, 0, 0.3));\n",
              "      fill: #FFFFFF;\n",
              "    }\n",
              "  </style>\n",
              "\n",
              "      <script>\n",
              "        const buttonEl =\n",
              "          document.querySelector('#df-bc22f9b4-ae2b-4d9f-b008-e2d5226681ad button.colab-df-convert');\n",
              "        buttonEl.style.display =\n",
              "          google.colab.kernel.accessAllowed ? 'block' : 'none';\n",
              "\n",
              "        async function convertToInteractive(key) {\n",
              "          const element = document.querySelector('#df-bc22f9b4-ae2b-4d9f-b008-e2d5226681ad');\n",
              "          const dataTable =\n",
              "            await google.colab.kernel.invokeFunction('convertToInteractive',\n",
              "                                                     [key], {});\n",
              "          if (!dataTable) return;\n",
              "\n",
              "          const docLinkHtml = 'Like what you see? Visit the ' +\n",
              "            '<a target=\"_blank\" href=https://colab.research.google.com/notebooks/data_table.ipynb>data table notebook</a>'\n",
              "            + ' to learn more about interactive tables.';\n",
              "          element.innerHTML = '';\n",
              "          dataTable['output_type'] = 'display_data';\n",
              "          await google.colab.output.renderOutput(dataTable, element);\n",
              "          const docLink = document.createElement('div');\n",
              "          docLink.innerHTML = docLinkHtml;\n",
              "          element.appendChild(docLink);\n",
              "        }\n",
              "      </script>\n",
              "    </div>\n",
              "  </div>\n",
              "  "
            ]
          },
          "metadata": {},
          "execution_count": 44
        }
      ]
    },
    {
      "cell_type": "code",
      "source": [
        "def sentimentalaysis(score):\n",
        "  if score < 0:\n",
        "    return 'Negative'\n",
        "  elif score == 0:\n",
        "    return 'Neutral'\n",
        "  else:\n",
        "    return 'Positive'"
      ],
      "metadata": {
        "id": "Ln9eBgNqR3Ee"
      },
      "execution_count": null,
      "outputs": []
    },
    {
      "cell_type": "code",
      "source": [
        "df['Sentiment Analysis'] = df['Polarity'].apply(sentimentalaysis)"
      ],
      "metadata": {
        "id": "vXqX-7V5R6JX"
      },
      "execution_count": null,
      "outputs": []
    },
    {
      "cell_type": "code",
      "source": [
        "df"
      ],
      "metadata": {
        "colab": {
          "base_uri": "https://localhost:8080/",
          "height": 424
        },
        "id": "Rf5-XRQYSgsj",
        "outputId": "1e2e6774-a30c-42de-96ea-f9ba1b122cbe"
      },
      "execution_count": null,
      "outputs": [
        {
          "output_type": "execute_result",
          "data": {
            "text/plain": [
              "                                               Tweets  Subjectivity  Polarity  \\\n",
              "0   RT : Alert: Repo rate increased for the first ...      0.333333  0.250000   \n",
              "1   RT : Impact of Repo Rate Hike on Stock Market!...      0.000000  0.000000   \n",
              "2   RT _venkatesh: 3/ Also key to note, Governor’s...      1.000000  0.000000   \n",
              "3   RT : RBI hiked Repo rate by 40 basis points to...      0.453750  0.158750   \n",
              "4   RT : RBI just raised the repo rate 😱 and the s...      0.687500 -0.312500   \n",
              "..                                                ...           ...       ...   \n",
              "95  What is repo rate:\\n\\nRepo rate or repurchase ...      0.350000  0.133333   \n",
              "96  RBI in a sudden move has increased the repo ra...      0.438889 -0.041667   \n",
              "97  RT : Aggressive monetaryPolicy by Central Bank...      0.250000  0.000000   \n",
              "98  RBI governor Shakti Kant Das recently stated -...      0.250000  0.000000   \n",
              "99  Repo rate hike: Fixed income funds set to beco...      0.600000  0.450000   \n",
              "\n",
              "   Sentiment Analysis  \n",
              "0            Positive  \n",
              "1             Neutral  \n",
              "2             Neutral  \n",
              "3            Positive  \n",
              "4            Negative  \n",
              "..                ...  \n",
              "95           Positive  \n",
              "96           Negative  \n",
              "97            Neutral  \n",
              "98            Neutral  \n",
              "99           Positive  \n",
              "\n",
              "[100 rows x 4 columns]"
            ],
            "text/html": [
              "\n",
              "  <div id=\"df-13c9a285-34dd-4112-907c-c983f2c5653a\">\n",
              "    <div class=\"colab-df-container\">\n",
              "      <div>\n",
              "<style scoped>\n",
              "    .dataframe tbody tr th:only-of-type {\n",
              "        vertical-align: middle;\n",
              "    }\n",
              "\n",
              "    .dataframe tbody tr th {\n",
              "        vertical-align: top;\n",
              "    }\n",
              "\n",
              "    .dataframe thead th {\n",
              "        text-align: right;\n",
              "    }\n",
              "</style>\n",
              "<table border=\"1\" class=\"dataframe\">\n",
              "  <thead>\n",
              "    <tr style=\"text-align: right;\">\n",
              "      <th></th>\n",
              "      <th>Tweets</th>\n",
              "      <th>Subjectivity</th>\n",
              "      <th>Polarity</th>\n",
              "      <th>Sentiment Analysis</th>\n",
              "    </tr>\n",
              "  </thead>\n",
              "  <tbody>\n",
              "    <tr>\n",
              "      <th>0</th>\n",
              "      <td>RT : Alert: Repo rate increased for the first ...</td>\n",
              "      <td>0.333333</td>\n",
              "      <td>0.250000</td>\n",
              "      <td>Positive</td>\n",
              "    </tr>\n",
              "    <tr>\n",
              "      <th>1</th>\n",
              "      <td>RT : Impact of Repo Rate Hike on Stock Market!...</td>\n",
              "      <td>0.000000</td>\n",
              "      <td>0.000000</td>\n",
              "      <td>Neutral</td>\n",
              "    </tr>\n",
              "    <tr>\n",
              "      <th>2</th>\n",
              "      <td>RT _venkatesh: 3/ Also key to note, Governor’s...</td>\n",
              "      <td>1.000000</td>\n",
              "      <td>0.000000</td>\n",
              "      <td>Neutral</td>\n",
              "    </tr>\n",
              "    <tr>\n",
              "      <th>3</th>\n",
              "      <td>RT : RBI hiked Repo rate by 40 basis points to...</td>\n",
              "      <td>0.453750</td>\n",
              "      <td>0.158750</td>\n",
              "      <td>Positive</td>\n",
              "    </tr>\n",
              "    <tr>\n",
              "      <th>4</th>\n",
              "      <td>RT : RBI just raised the repo rate 😱 and the s...</td>\n",
              "      <td>0.687500</td>\n",
              "      <td>-0.312500</td>\n",
              "      <td>Negative</td>\n",
              "    </tr>\n",
              "    <tr>\n",
              "      <th>...</th>\n",
              "      <td>...</td>\n",
              "      <td>...</td>\n",
              "      <td>...</td>\n",
              "      <td>...</td>\n",
              "    </tr>\n",
              "    <tr>\n",
              "      <th>95</th>\n",
              "      <td>What is repo rate:\\n\\nRepo rate or repurchase ...</td>\n",
              "      <td>0.350000</td>\n",
              "      <td>0.133333</td>\n",
              "      <td>Positive</td>\n",
              "    </tr>\n",
              "    <tr>\n",
              "      <th>96</th>\n",
              "      <td>RBI in a sudden move has increased the repo ra...</td>\n",
              "      <td>0.438889</td>\n",
              "      <td>-0.041667</td>\n",
              "      <td>Negative</td>\n",
              "    </tr>\n",
              "    <tr>\n",
              "      <th>97</th>\n",
              "      <td>RT : Aggressive monetaryPolicy by Central Bank...</td>\n",
              "      <td>0.250000</td>\n",
              "      <td>0.000000</td>\n",
              "      <td>Neutral</td>\n",
              "    </tr>\n",
              "    <tr>\n",
              "      <th>98</th>\n",
              "      <td>RBI governor Shakti Kant Das recently stated -...</td>\n",
              "      <td>0.250000</td>\n",
              "      <td>0.000000</td>\n",
              "      <td>Neutral</td>\n",
              "    </tr>\n",
              "    <tr>\n",
              "      <th>99</th>\n",
              "      <td>Repo rate hike: Fixed income funds set to beco...</td>\n",
              "      <td>0.600000</td>\n",
              "      <td>0.450000</td>\n",
              "      <td>Positive</td>\n",
              "    </tr>\n",
              "  </tbody>\n",
              "</table>\n",
              "<p>100 rows × 4 columns</p>\n",
              "</div>\n",
              "      <button class=\"colab-df-convert\" onclick=\"convertToInteractive('df-13c9a285-34dd-4112-907c-c983f2c5653a')\"\n",
              "              title=\"Convert this dataframe to an interactive table.\"\n",
              "              style=\"display:none;\">\n",
              "        \n",
              "  <svg xmlns=\"http://www.w3.org/2000/svg\" height=\"24px\"viewBox=\"0 0 24 24\"\n",
              "       width=\"24px\">\n",
              "    <path d=\"M0 0h24v24H0V0z\" fill=\"none\"/>\n",
              "    <path d=\"M18.56 5.44l.94 2.06.94-2.06 2.06-.94-2.06-.94-.94-2.06-.94 2.06-2.06.94zm-11 1L8.5 8.5l.94-2.06 2.06-.94-2.06-.94L8.5 2.5l-.94 2.06-2.06.94zm10 10l.94 2.06.94-2.06 2.06-.94-2.06-.94-.94-2.06-.94 2.06-2.06.94z\"/><path d=\"M17.41 7.96l-1.37-1.37c-.4-.4-.92-.59-1.43-.59-.52 0-1.04.2-1.43.59L10.3 9.45l-7.72 7.72c-.78.78-.78 2.05 0 2.83L4 21.41c.39.39.9.59 1.41.59.51 0 1.02-.2 1.41-.59l7.78-7.78 2.81-2.81c.8-.78.8-2.07 0-2.86zM5.41 20L4 18.59l7.72-7.72 1.47 1.35L5.41 20z\"/>\n",
              "  </svg>\n",
              "      </button>\n",
              "      \n",
              "  <style>\n",
              "    .colab-df-container {\n",
              "      display:flex;\n",
              "      flex-wrap:wrap;\n",
              "      gap: 12px;\n",
              "    }\n",
              "\n",
              "    .colab-df-convert {\n",
              "      background-color: #E8F0FE;\n",
              "      border: none;\n",
              "      border-radius: 50%;\n",
              "      cursor: pointer;\n",
              "      display: none;\n",
              "      fill: #1967D2;\n",
              "      height: 32px;\n",
              "      padding: 0 0 0 0;\n",
              "      width: 32px;\n",
              "    }\n",
              "\n",
              "    .colab-df-convert:hover {\n",
              "      background-color: #E2EBFA;\n",
              "      box-shadow: 0px 1px 2px rgba(60, 64, 67, 0.3), 0px 1px 3px 1px rgba(60, 64, 67, 0.15);\n",
              "      fill: #174EA6;\n",
              "    }\n",
              "\n",
              "    [theme=dark] .colab-df-convert {\n",
              "      background-color: #3B4455;\n",
              "      fill: #D2E3FC;\n",
              "    }\n",
              "\n",
              "    [theme=dark] .colab-df-convert:hover {\n",
              "      background-color: #434B5C;\n",
              "      box-shadow: 0px 1px 3px 1px rgba(0, 0, 0, 0.15);\n",
              "      filter: drop-shadow(0px 1px 2px rgba(0, 0, 0, 0.3));\n",
              "      fill: #FFFFFF;\n",
              "    }\n",
              "  </style>\n",
              "\n",
              "      <script>\n",
              "        const buttonEl =\n",
              "          document.querySelector('#df-13c9a285-34dd-4112-907c-c983f2c5653a button.colab-df-convert');\n",
              "        buttonEl.style.display =\n",
              "          google.colab.kernel.accessAllowed ? 'block' : 'none';\n",
              "\n",
              "        async function convertToInteractive(key) {\n",
              "          const element = document.querySelector('#df-13c9a285-34dd-4112-907c-c983f2c5653a');\n",
              "          const dataTable =\n",
              "            await google.colab.kernel.invokeFunction('convertToInteractive',\n",
              "                                                     [key], {});\n",
              "          if (!dataTable) return;\n",
              "\n",
              "          const docLinkHtml = 'Like what you see? Visit the ' +\n",
              "            '<a target=\"_blank\" href=https://colab.research.google.com/notebooks/data_table.ipynb>data table notebook</a>'\n",
              "            + ' to learn more about interactive tables.';\n",
              "          element.innerHTML = '';\n",
              "          dataTable['output_type'] = 'display_data';\n",
              "          await google.colab.output.renderOutput(dataTable, element);\n",
              "          const docLink = document.createElement('div');\n",
              "          docLink.innerHTML = docLinkHtml;\n",
              "          element.appendChild(docLink);\n",
              "        }\n",
              "      </script>\n",
              "    </div>\n",
              "  </div>\n",
              "  "
            ]
          },
          "metadata": {},
          "execution_count": 47
        }
      ]
    },
    {
      "cell_type": "markdown",
      "source": [
        "# Visualization of polarity and subjectivity\n"
      ],
      "metadata": {
        "id": "e3lZDTLa17S3"
      }
    },
    {
      "cell_type": "code",
      "source": [
        "#ploting polarity and subjectivity\n",
        "\n",
        "#Scatter plot - plots relationship between two variables\n",
        "#we plotted the relationship between polarity and subjectivity\n",
        "#we can observe a slightly positive correlation between the two\n",
        "#we can also observe a greater aggreagation of point in the range from neutral to slightly positive sentiment\n",
        "plt.figure(figsize = (10,8))\n",
        "for i in range(0, len(df)):\n",
        "  plt.scatter(df['Polarity'][i], df['Subjectivity'][i], color = 'Red')\n",
        "\n",
        "plt.title('Sentiment Analysis')\n",
        "plt.xlabel('Polarity')\n",
        "plt.ylabel('Subjectivity')\n",
        "plt.show()"
      ],
      "metadata": {
        "colab": {
          "base_uri": "https://localhost:8080/",
          "height": 513
        },
        "id": "Q523lBzHSliL",
        "outputId": "279384a4-b57c-4977-95ec-86da267150ec"
      },
      "execution_count": null,
      "outputs": [
        {
          "output_type": "display_data",
          "data": {
            "text/plain": [
              "<Figure size 720x576 with 1 Axes>"
            ],
            "image/png": "[encoded data removed]"
          },
          "metadata": {
            "needs_background": "light"
          }
        }
      ]
    },
    {
      "cell_type": "code",
      "source": [
        "# Calculating percentage of positive tweets, neutral and negative tweets\n",
        "positive_tweets = df[df['Sentiment Analysis'] == \"Positive\"]\n",
        "neutral_tweets = df[df['Sentiment Analysis'] == \"Neutral\"]\n",
        "negative_tweets = df[df['Sentiment Analysis'] == \"Negative\"]\n"
      ],
      "metadata": {
        "id": "DTPzLroKUp0l"
      },
      "execution_count": null,
      "outputs": []
    },
    {
      "cell_type": "code",
      "source": [
        "percentage_positive_tweets = (len(positive_tweets)/len(df))*100\n",
        "percentage_positive_tweets\n"
      ],
      "metadata": {
        "colab": {
          "base_uri": "https://localhost:8080/"
        },
        "id": "nYY670SyVNhH",
        "outputId": "c47c00dc-f080-43d3-d799-b7c5d94b9465"
      },
      "execution_count": null,
      "outputs": [
        {
          "output_type": "execute_result",
          "data": {
            "text/plain": [
              "23.0"
            ]
          },
          "metadata": {},
          "execution_count": 50
        }
      ]
    },
    {
      "cell_type": "code",
      "source": [
        "percentage_neutral_tweets = (len(neutral_tweets)/len(df))*100\n",
        "percentage_neutral_tweets"
      ],
      "metadata": {
        "colab": {
          "base_uri": "https://localhost:8080/"
        },
        "id": "lkgmiDSGV5CA",
        "outputId": "dbb22f6e-b7f4-40a7-f971-3e285bdd9c92"
      },
      "execution_count": null,
      "outputs": [
        {
          "output_type": "execute_result",
          "data": {
            "text/plain": [
              "55.00000000000001"
            ]
          },
          "metadata": {},
          "execution_count": 51
        }
      ]
    },
    {
      "cell_type": "code",
      "source": [
        "percentage_negative_tweets = (len(negative_tweets)/len(df))*100\n",
        "percentage_negative_tweets"
      ],
      "metadata": {
        "colab": {
          "base_uri": "https://localhost:8080/"
        },
        "id": "sT8dbfkuWCmV",
        "outputId": "207f7474-6a09-4557-ed49-69cc22894359"
      },
      "execution_count": null,
      "outputs": [
        {
          "output_type": "execute_result",
          "data": {
            "text/plain": [
              "22.0"
            ]
          },
          "metadata": {},
          "execution_count": 52
        }
      ]
    },
    {
      "cell_type": "code",
      "source": [
        "#Bar plot - number of tweets versus value Counts of sentiments\n",
        "#we can see a higher representation of neutral tweets\n",
        "df['Sentiment Analysis'].value_counts()\n",
        "\n",
        "plt.title(\"Sentiment Analysis\")\n",
        "plt.xlabel(\"Sentiment\")\n",
        "plt.ylabel(\"Number of Tweets\")\n",
        "df['Sentiment Analysis'].value_counts().plot(kind = \"bar\")\n",
        "plt.show()\n"
      ],
      "metadata": {
        "colab": {
          "base_uri": "https://localhost:8080/",
          "height": 330
        },
        "id": "u5n2LgY5WUww",
        "outputId": "0bff34a1-458d-4c6a-d5de-47b3dfc5009f"
      },
      "execution_count": null,
      "outputs": [
        {
          "output_type": "display_data",
          "data": {
            "text/plain": [
              "<Figure size 432x288 with 1 Axes>"
            ],
            "image/png": "[encoded data removed]"
          },
          "metadata": {
            "needs_background": "light"
          }
        }
      ]
    },
    {
      "cell_type": "code",
      "source": [
        "import seaborn as sns\n",
        "#distribution plot - frequency distribution for polarity, it plots histogram and line graph\n",
        "#Polarity sentiment showed a higher proportion of in the neutral range\n",
        "#we can interpret that people had neither positive nor negative sentiment\n",
        "#we see a greater representation in the at the mean giving us a normal distribution\n",
        "sns.distplot(df[\"Polarity\"])"
      ],
      "metadata": {
        "colab": {
          "base_uri": "https://localhost:8080/",
          "height": 351
        },
        "id": "sr0n3DShaYhA",
        "outputId": "4574dfaa-919c-4f20-c881-8230e2bc1b0c"
      },
      "execution_count": null,
      "outputs": [
        {
          "output_type": "stream",
          "name": "stderr",
          "text": [
            "/usr/local/lib/python3.7/dist-packages/seaborn/distributions.py:2619: FutureWarning: `distplot` is a deprecated function and will be removed in a future version. Please adapt your code to use either `displot` (a figure-level function with similar flexibility) or `histplot` (an axes-level function for histograms).\n",
            "  warnings.warn(msg, FutureWarning)\n"
          ]
        },
        {
          "output_type": "execute_result",
          "data": {
            "text/plain": [
              "<matplotlib.axes._subplots.AxesSubplot at 0x7f30c6b8be10>"
            ]
          },
          "metadata": {},
          "execution_count": 54
        },
        {
          "output_type": "display_data",
          "data": {
            "text/plain": [
              "<Figure size 432x288 with 1 Axes>"
            ],
            "image/png": "[encoded data removed]"
          },
          "metadata": {
            "needs_background": "light"
          }
        }
      ]
    },
    {
      "cell_type": "code",
      "source": [
        "#distribution plot - frequency distribution for subjectivity\n",
        "#We can again observe a higher proportion of neutral sentiment.\n",
        "\n",
        "sns.distplot(df[\"Subjectivity\"])"
      ],
      "metadata": {
        "colab": {
          "base_uri": "https://localhost:8080/",
          "height": 351
        },
        "id": "BMqPvckZa8z7",
        "outputId": "fcfb1aa9-6926-4e6f-f738-ae67f5b148fa"
      },
      "execution_count": null,
      "outputs": [
        {
          "output_type": "stream",
          "name": "stderr",
          "text": [
            "/usr/local/lib/python3.7/dist-packages/seaborn/distributions.py:2619: FutureWarning: `distplot` is a deprecated function and will be removed in a future version. Please adapt your code to use either `displot` (a figure-level function with similar flexibility) or `histplot` (an axes-level function for histograms).\n",
            "  warnings.warn(msg, FutureWarning)\n"
          ]
        },
        {
          "output_type": "execute_result",
          "data": {
            "text/plain": [
              "<matplotlib.axes._subplots.AxesSubplot at 0x7f30cb8b61d0>"
            ]
          },
          "metadata": {},
          "execution_count": 55
        },
        {
          "output_type": "display_data",
          "data": {
            "text/plain": [
              "<Figure size 432x288 with 1 Axes>"
            ],
            "image/png": "[encoded data removed]"
          },
          "metadata": {
            "needs_background": "light"
          }
        }
      ]
    },
    {
      "cell_type": "code",
      "source": [
        "# bar plot - used for categorical data\n",
        "sns.barplot(x = 'Sentiment Analysis', y = 'Polarity', data = df)"
      ],
      "metadata": {
        "colab": {
          "base_uri": "https://localhost:8080/",
          "height": 296
        },
        "id": "OqOLItaTbh0o",
        "outputId": "bb0e9c29-b90a-4ecd-e92d-0bc7855bb1d7"
      },
      "execution_count": null,
      "outputs": [
        {
          "output_type": "execute_result",
          "data": {
            "text/plain": [
              "<matplotlib.axes._subplots.AxesSubplot at 0x7f30c6aac490>"
            ]
          },
          "metadata": {},
          "execution_count": 56
        },
        {
          "output_type": "display_data",
          "data": {
            "text/plain": [
              "<Figure size 432x288 with 1 Axes>"
            ],
            "image/png": "[encoded data removed]"
          },
          "metadata": {
            "needs_background": "light"
          }
        }
      ]
    },
    {
      "cell_type": "code",
      "source": [
        "#box and whisker plot - used to display distribution by representing minimum, first quartile, median, third quartile and maximum.\n",
        "#We used this plot to visualize the distribution of data points within each category. We observed an outlier in the negative polarity category\n",
        "sns.boxplot(x = \"Sentiment Analysis\", y = \"Polarity\", data = df)"
      ],
      "metadata": {
        "colab": {
          "base_uri": "https://localhost:8080/",
          "height": 296
        },
        "id": "uPSpVPvXcI79",
        "outputId": "5c732e41-61b7-489c-9765-4cc648e716b3"
      },
      "execution_count": null,
      "outputs": [
        {
          "output_type": "execute_result",
          "data": {
            "text/plain": [
              "<matplotlib.axes._subplots.AxesSubplot at 0x7f30c6a0af90>"
            ]
          },
          "metadata": {},
          "execution_count": 57
        },
        {
          "output_type": "display_data",
          "data": {
            "text/plain": [
              "<Figure size 432x288 with 1 Axes>"
            ],
            "image/png": "[encoded data removed]"
          },
          "metadata": {
            "needs_background": "light"
          }
        }
      ]
    },
    {
      "cell_type": "code",
      "source": [
        "#we performed the same visualization as the box plot in terms of a strip plot\n",
        "#This plots distribution and represents each point\n",
        "plt.figure(figsize = (8,6))\n",
        "\n",
        "sns.stripplot(x = \"Sentiment Analysis\", y = \"Polarity\", data = df)"
      ],
      "metadata": {
        "colab": {
          "base_uri": "https://localhost:8080/",
          "height": 405
        },
        "id": "vgBARE2Qc5FJ",
        "outputId": "f6c71fd3-c76c-4ad0-9308-fc8f55cceb9b"
      },
      "execution_count": null,
      "outputs": [
        {
          "output_type": "execute_result",
          "data": {
            "text/plain": [
              "<matplotlib.axes._subplots.AxesSubplot at 0x7f30c69a9150>"
            ]
          },
          "metadata": {},
          "execution_count": 58
        },
        {
          "output_type": "display_data",
          "data": {
            "text/plain": [
              "<Figure size 576x432 with 1 Axes>"
            ],
            "image/png": "[encoded data removed]"
          },
          "metadata": {
            "needs_background": "light"
          }
        }
      ]
    },
    {
      "cell_type": "code",
      "source": [
        "#We used wordcloud to visually represent text. We extracted words from the tweets.\n",
        "#The size of these words depends on the frequency of occurrence.\n",
        "\n",
        "words = ' '.join([tweets for tweets in df['Tweets']])\n",
        "wordcloud = WordCloud(width = 750, height = 500, random_state= 21, max_font_size= 200).generate(words)\n",
        "plt.imshow(wordcloud, interpolation = 'bilinear')\n",
        "plt.show()"
      ],
      "metadata": {
        "colab": {
          "base_uri": "https://localhost:8080/",
          "height": 269
        },
        "id": "UxFZhBcvIS3W",
        "outputId": "44c3ea3f-a923-4ebf-c15e-d65aae0e79e3"
      },
      "execution_count": null,
      "outputs": [
        {
          "output_type": "display_data",
          "data": {
            "text/plain": [
              "<Figure size 432x288 with 1 Axes>"
            ],
            "image/png": "[encoded data removed]"
          },
          "metadata": {
            "needs_background": "light"
          }
        }
      ]
    },
    {
      "cell_type": "code",
      "source": [
        "a = df['Polarity'].sort_values()"
      ],
      "metadata": {
        "id": "4Ive0eOSKj36"
      },
      "execution_count": null,
      "outputs": []
    },
    {
      "cell_type": "code",
      "source": [
        "a"
      ],
      "metadata": {
        "colab": {
          "base_uri": "https://localhost:8080/"
        },
        "id": "CxXoHF6vIYj_",
        "outputId": "70a467a3-2687-435c-cfd0-3b135d3e26ac"
      },
      "execution_count": null,
      "outputs": [
        {
          "output_type": "execute_result",
          "data": {
            "text/plain": [
              "74   -0.700000\n",
              "6    -0.700000\n",
              "77   -0.400000\n",
              "23   -0.312500\n",
              "66   -0.312500\n",
              "        ...   \n",
              "27    0.300000\n",
              "70    0.359375\n",
              "99    0.450000\n",
              "21    0.500000\n",
              "12    0.500000\n",
              "Name: Polarity, Length: 100, dtype: float64"
            ]
          },
          "metadata": {},
          "execution_count": 61
        }
      ]
    },
    {
      "cell_type": "code",
      "source": [
        "df['Tweets'].iloc[74]"
      ],
      "metadata": {
        "colab": {
          "base_uri": "https://localhost:8080/",
          "height": 35
        },
        "id": "2JCaTZhAIyc7",
        "outputId": "5c0e8693-5ba6-4898-9d07-259cce633f62"
      },
      "execution_count": null,
      "outputs": [
        {
          "output_type": "execute_result",
          "data": {
            "text/plain": [
              "'RT : RepoRate: The hike spells bad news for those who were looking to take a home or an auto loan. Read for details \\n\\nRBIPolicy…'"
            ],
            "application/vnd.google.colaboratory.intrinsic+json": {
              "type": "string"
            }
          },
          "metadata": {},
          "execution_count": 62
        }
      ]
    }
  ]
}