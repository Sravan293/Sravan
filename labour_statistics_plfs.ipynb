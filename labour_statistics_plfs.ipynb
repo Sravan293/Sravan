{
  "nbformat": 4,
  "nbformat_minor": 0,
  "metadata": {
    "colab": {
      "provenance": []
    },
    "kernelspec": {
      "name": "python3",
      "display_name": "Python 3"
    },
    "language_info": {
      "name": "python"
    }
  },
  "cells": [
    {
      "cell_type": "code",
      "execution_count": null,
      "metadata": {
        "id": "e5eWZLBvzRwA",
        "colab": {
          "base_uri": "https://localhost:8080/"
        },
        "outputId": "39ebe259-b3f1-4608-b2b0-89c424c7de1c"
      },
      "outputs": [
        {
          "output_type": "execute_result",
          "data": {
            "text/plain": [
              "(14178, 147)"
            ]
          },
          "metadata": {},
          "execution_count": 1
        }
      ],
      "source": [
        "import pandas as pd\n",
        "import numpy as np\n",
        "andhra = pd.read_csv('Andhra_plfs.csv')\n",
        "andhra.shape\n"
      ]
    },
    {
      "cell_type": "code",
      "source": [
        "#andhra =  df[df[\"state\"]==28]"
      ],
      "metadata": {
        "id": "_9g-Yb_f0MWN"
      },
      "execution_count": null,
      "outputs": []
    },
    {
      "cell_type": "code",
      "source": [],
      "metadata": {
        "id": "1dPTTd0f2Jny"
      },
      "execution_count": null,
      "outputs": []
    },
    {
      "cell_type": "code",
      "source": [
        "#andhra.to_csv(\"Andhra_plfs.csv\")"
      ],
      "metadata": {
        "id": "k9JUfWht3DI5"
      },
      "execution_count": null,
      "outputs": []
    },
    {
      "cell_type": "code",
      "source": [
        "andhra.columns"
      ],
      "metadata": {
        "colab": {
          "base_uri": "https://localhost:8080/"
        },
        "id": "wW6_pvNFgzGX",
        "outputId": "bf289e9c-ae2b-48f6-889d-25df7719c571"
      },
      "execution_count": null,
      "outputs": [
        {
          "output_type": "execute_result",
          "data": {
            "text/plain": [
              "Index(['Unnamed: 0', 'file_id_p', 'schedule', 'qtr_p', 'visit_p', 'sector',\n",
              "       'state', 'district', 'state_region', 'stratum',\n",
              "       ...\n",
              "       'cws_monthly_earnings_regsalaried', 'cws_monthly_earnings_selfemp',\n",
              "       'pid', 't_edu', 'voc_train_received', 'field_voc_train',\n",
              "       'upa_enterprise_type', 'usa_enterprise_type', 'scode', 'weight'],\n",
              "      dtype='object', length=147)"
            ]
          },
          "metadata": {},
          "execution_count": 2
        }
      ]
    },
    {
      "cell_type": "code",
      "source": [
        "df = andhra[andhra['upa_status']==81]\n",
        "df.shape"
      ],
      "metadata": {
        "id": "4owXk0H6t6bx",
        "colab": {
          "base_uri": "https://localhost:8080/"
        },
        "outputId": "a0706aa5-82d2-4c2d-a1f5-1b7a95d270f7"
      },
      "execution_count": null,
      "outputs": [
        {
          "output_type": "execute_result",
          "data": {
            "text/plain": [
              "(434, 149)"
            ]
          },
          "metadata": {},
          "execution_count": 18
        }
      ]
    },
    {
      "cell_type": "code",
      "source": [
        "def weighted_average(dataframe, value, weight):\n",
        "    val = dataframe[value]\n",
        "    wt = dataframe[weight]\n",
        "    return sum(val * wt) / wt.sum()"
      ],
      "metadata": {
        "id": "DZuqVKIn_SI9"
      },
      "execution_count": null,
      "outputs": []
    },
    {
      "cell_type": "code",
      "source": [
        "age = df[df['age']>=15]\n",
        "age.shape"
      ],
      "metadata": {
        "colab": {
          "base_uri": "https://localhost:8080/"
        },
        "id": "Hi4jWgz4Zg0F",
        "outputId": "7f7d30b7-c079-4fa8-da92-3f6d40c49ae7"
      },
      "execution_count": null,
      "outputs": [
        {
          "output_type": "execute_result",
          "data": {
            "text/plain": [
              "(5620, 147)"
            ]
          },
          "metadata": {},
          "execution_count": 4
        }
      ]
    },
    {
      "cell_type": "code",
      "source": [
        "\"\"\"\n",
        "lfpr1 = age[age['upa_status']<=81]\n",
        "lfpr2 = age[age['usa_status']<=81]\n",
        "lfpr3 = age.loc[(age['upa_status'] <=81) & (age['usa_status'] <= 81)]\n",
        "a=(len(lfpr1)+len(lfpr2)-len(lfpr3))\n",
        "a\n",
        "\n",
        "\"\"\""
      ],
      "metadata": {
        "colab": {
          "base_uri": "https://localhost:8080/"
        },
        "id": "2W51VagiuoCy",
        "outputId": "f457c1d1-efc6-4534-e72d-b75d393be43d"
      },
      "execution_count": null,
      "outputs": [
        {
          "output_type": "execute_result",
          "data": {
            "text/plain": [
              "4316"
            ]
          },
          "metadata": {},
          "execution_count": 73
        }
      ]
    },
    {
      "cell_type": "code",
      "source": [
        "un = age[(age['upa_status']==81)|(age['usa_status']==81)]\n",
        "lfpr = age[(age['upa_status']<=81)|(age['usa_status']<=81)]"
      ],
      "metadata": {
        "id": "ECrYQa4U8_Fa"
      },
      "execution_count": null,
      "outputs": []
    },
    {
      "cell_type": "code",
      "source": [
        "female_lfpr= len(lfpr)/len(age)\n",
        "female_lfpr"
      ],
      "metadata": {
        "colab": {
          "base_uri": "https://localhost:8080/"
        },
        "id": "uRh8RxtLy4ah",
        "outputId": "f9e7fd2e-bde4-472d-cc57-5e7d6d81a3e8"
      },
      "execution_count": null,
      "outputs": [
        {
          "output_type": "execute_result",
          "data": {
            "text/plain": [
              "0.7679715302491104"
            ]
          },
          "metadata": {},
          "execution_count": 6
        }
      ]
    },
    {
      "cell_type": "code",
      "source": [
        "female_uem = len(un)/len(lfpr)\n",
        "female_uem"
      ],
      "metadata": {
        "colab": {
          "base_uri": "https://localhost:8080/"
        },
        "id": "d7apxkR4bY9y",
        "outputId": "e6b20a1f-4655-4693-94e8-3eeaa55a5891"
      },
      "execution_count": null,
      "outputs": [
        {
          "output_type": "execute_result",
          "data": {
            "text/plain": [
              "0.0705607476635514"
            ]
          },
          "metadata": {},
          "execution_count": 11
        }
      ]
    },
    {
      "cell_type": "code",
      "source": [
        "male_lfpr =len(lfpr)/len(age)\n",
        "male_lfpr"
      ],
      "metadata": {
        "colab": {
          "base_uri": "https://localhost:8080/"
        },
        "id": "xl3Dw5dAbtSo",
        "outputId": "67b85e27-e4e5-4724-af83-c0a24e0211d1"
      },
      "execution_count": null,
      "outputs": [
        {
          "output_type": "execute_result",
          "data": {
            "text/plain": [
              "0.7679715302491104"
            ]
          },
          "metadata": {},
          "execution_count": 16
        }
      ]
    },
    {
      "cell_type": "code",
      "source": [
        "male_uem = len(un)/len(lfpr)\n",
        "male_uem"
      ],
      "metadata": {
        "colab": {
          "base_uri": "https://localhost:8080/"
        },
        "id": "wPY2SljUb4do",
        "outputId": "898d3970-8b1b-4486-d2dd-c16e6160f315"
      },
      "execution_count": null,
      "outputs": [
        {
          "output_type": "execute_result",
          "data": {
            "text/plain": [
              "0.06556997219647823"
            ]
          },
          "metadata": {},
          "execution_count": 17
        }
      ]
    },
    {
      "cell_type": "code",
      "source": [
        "\n",
        "# codes for social group(ST=1,SC=2,OBC=3,others=9)\n",
        "sage1 = andhra.loc[(andhra['social_group'] ==1) & (andhra['age'] >=15)]\n",
        "sage2 = andhra.loc[(andhra['social_group'] ==2) & (andhra['age'] >=15)]\n",
        "sage3 = andhra.loc[(andhra['social_group'] ==3) & (andhra['age'] >=15)]\n",
        "sage4 = andhra.loc[(andhra['social_group'] ==9) & (andhra['age'] >=15)]\n",
        "\n",
        "sem1 = andhra.loc[(andhra['social_group'] ==1) & (andhra['age'] >=15) & (andhra['upa_status']<81)]\n",
        "sem2 = andhra.loc[(andhra['social_group'] ==2) & (andhra['age'] >=15) & (andhra['upa_status']<81)]\n",
        "sem3 = andhra.loc[(andhra['social_group'] ==3) & (andhra['age'] >=15) & (andhra['upa_status']<81)]\n",
        "sem4 = andhra.loc[(andhra['social_group'] ==9) & (andhra['age'] >=15) & (andhra['upa_status']<81)]\n",
        "\n",
        "sun1 = andhra.loc[(andhra['social_group'] ==1) & (andhra['age'] >=15) & (andhra['upa_status']==81)]\n",
        "sun2 = andhra.loc[(andhra['social_group'] ==2) & (andhra['age'] >=15) & (andhra['upa_status']==81)]\n",
        "sun3 = andhra.loc[(andhra['social_group'] ==3) & (andhra['age'] >=15) & (andhra['upa_status']==81)]\n",
        "sun4 = andhra.loc[(andhra['social_group'] ==9) & (andhra['age'] >=15) & (andhra['upa_status']==81)]\n",
        "\n",
        "sl1 = andhra.loc[(andhra['social_group'] ==1) & (andhra['age'] >=15) & (andhra['upa_status']<=81)]\n",
        "sl2 = andhra.loc[(andhra['social_group'] ==2) & (andhra['age'] >=15) & (andhra['upa_status']<=81)]\n",
        "sl3 = andhra.loc[(andhra['social_group'] ==3) & (andhra['age'] >=15) & (andhra['upa_status']<=81)]\n",
        "sl4 = andhra.loc[(andhra['social_group'] ==9) & (andhra['age'] >=15) & (andhra['upa_status']<=81)]"
      ],
      "metadata": {
        "id": "vhGtX8MvuP12"
      },
      "execution_count": null,
      "outputs": []
    },
    {
      "cell_type": "code",
      "source": [
        "ST_WPR = len(sem1)/len(sage1)\n",
        "SC_WPR = len(sem2)/len(sage2)\n",
        "OBC_WPR = len(sem3)/len(sage3)\n",
        "OTH_WPR = len(sem4)/len(sage4)"
      ],
      "metadata": {
        "id": "SSk-gVWqnoPN"
      },
      "execution_count": null,
      "outputs": []
    },
    {
      "cell_type": "code",
      "source": [
        "WPRs = [ST_WPR,SC_WPR,OBC_WPR,OTH_WPR]\n",
        "WPRs"
      ],
      "metadata": {
        "colab": {
          "base_uri": "https://localhost:8080/"
        },
        "id": "1L0-5x8yo7yU",
        "outputId": "6a5cc4fd-451f-49eb-ac23-0ca2123519fb"
      },
      "execution_count": null,
      "outputs": [
        {
          "output_type": "execute_result",
          "data": {
            "text/plain": [
              "[0.6152304609218436,\n",
              " 0.5479511769834351,\n",
              " 0.5380116959064327,\n",
              " 0.4663633409164771]"
            ]
          },
          "metadata": {},
          "execution_count": 9
        }
      ]
    },
    {
      "cell_type": "code",
      "source": [
        "ST_UNR = len(sun1)/len(sl1)\n",
        "SC_UNR = len(sun2)/len(sl2)\n",
        "OBC_UNR = len(sun3)/len(sl3)\n",
        "OTH_UNR = len(sun4)/len(sl4)"
      ],
      "metadata": {
        "id": "8ergE-lboWMJ"
      },
      "execution_count": null,
      "outputs": []
    },
    {
      "cell_type": "code",
      "source": [
        "len(sun4)"
      ],
      "metadata": {
        "colab": {
          "base_uri": "https://localhost:8080/"
        },
        "id": "Jztzblky6u1q",
        "outputId": "71de4e95-e17f-4b43-a36b-6123831375ed"
      },
      "execution_count": null,
      "outputs": [
        {
          "output_type": "execute_result",
          "data": {
            "text/plain": [
              "100"
            ]
          },
          "metadata": {},
          "execution_count": 31
        }
      ]
    },
    {
      "cell_type": "code",
      "source": [
        "UNs = [ST_UNR,SC_UNR,OBC_UNR,OTH_UNR]\n",
        "UNs"
      ],
      "metadata": {
        "colab": {
          "base_uri": "https://localhost:8080/"
        },
        "id": "ae_ByATupPXm",
        "outputId": "5ec47122-7096-4f4c-c5db-87bcbe8a91f9"
      },
      "execution_count": null,
      "outputs": [
        {
          "output_type": "execute_result",
          "data": {
            "text/plain": [
              "[0.07807807807807808,\n",
              " 0.07095343680709534,\n",
              " 0.06717363751584284,\n",
              " 0.06514657980456026]"
            ]
          },
          "metadata": {},
          "execution_count": 11
        }
      ]
    },
    {
      "cell_type": "code",
      "source": [
        "def edu_cate(value):\n",
        "  if value<=4:\n",
        "    return \"no education\"\n",
        "  elif value>4 and value<=8:\n",
        "    return 'low education'\n",
        "  elif value>8 and value<=11:\n",
        "    return 'medium education'\n",
        "  else:\n",
        "    return 'high education'\n",
        "\n",
        "\n",
        "\n"
      ],
      "metadata": {
        "id": "eykd-2ra68Db"
      },
      "execution_count": null,
      "outputs": []
    },
    {
      "cell_type": "code",
      "source": [
        "andhra['edu_level'] = andhra['g_edu'].apply(edu_cate)"
      ],
      "metadata": {
        "id": "6-Wx4gCpAXq-"
      },
      "execution_count": null,
      "outputs": []
    },
    {
      "cell_type": "code",
      "source": [
        "age = andhra[andhra['age']>=15]\n",
        "age.shape"
      ],
      "metadata": {
        "colab": {
          "base_uri": "https://localhost:8080/"
        },
        "id": "e-_gxMnEaO88",
        "outputId": "0e3456ed-f4d8-42f6-eae2-7d9269429dab"
      },
      "execution_count": null,
      "outputs": [
        {
          "output_type": "execute_result",
          "data": {
            "text/plain": [
              "(11342, 149)"
            ]
          },
          "metadata": {},
          "execution_count": 11
        }
      ]
    },
    {
      "cell_type": "code",
      "source": [
        "age[age['edu_level']=='high education'].shape"
      ],
      "metadata": {
        "colab": {
          "base_uri": "https://localhost:8080/"
        },
        "id": "zlDl8z10_Ky2",
        "outputId": "aaa1d448-302c-4d24-b43f-6f85de47ad61"
      },
      "execution_count": null,
      "outputs": [
        {
          "output_type": "execute_result",
          "data": {
            "text/plain": [
              "(1517, 149)"
            ]
          },
          "metadata": {},
          "execution_count": 17
        }
      ]
    },
    {
      "cell_type": "code",
      "source": [
        "andhra.to_csv('edu_bin andhra1.csv')"
      ],
      "metadata": {
        "id": "X_vGmo9l-9kO"
      },
      "execution_count": null,
      "outputs": []
    },
    {
      "cell_type": "code",
      "source": [
        "eun1 = andhra.loc[(andhra['age'] >=15) & (andhra['upa_status'] ==81) & (andhra['edu_level']==\"no education\")]\n",
        "eun1.shape"
      ],
      "metadata": {
        "colab": {
          "base_uri": "https://localhost:8080/"
        },
        "id": "v6QpP7fak669",
        "outputId": "490fdc04-98fe-46f8-9ad5-16803ec3e81e"
      },
      "execution_count": null,
      "outputs": [
        {
          "output_type": "execute_result",
          "data": {
            "text/plain": [
              "(1, 149)"
            ]
          },
          "metadata": {},
          "execution_count": 22
        }
      ]
    },
    {
      "cell_type": "code",
      "source": [
        "eun1 = andhra.loc[(andhra['edu level'] ==\"no education\") & (andhra['age'] >=15) & (andhra['upa_status']==81)]\n",
        "eun2 = andhra.loc[(andhra['edu level'] ==\"low education\") & (andhra['age'] >=15) & (andhra['upa_status']==81)]\n",
        "eun3 = andhra.loc[(andhra['edu level'] ==\"medium education\") & (andhra['age'] >=15) & (andhra['upa_status']==81)]\n",
        "eun4 = andhra.loc[(andhra['edu level'] ==\"high education\") & (andhra['age'] >=15) & (andhra['upa_status']==81)]\n",
        "\n",
        "el1 = andhra.loc[(andhra['edu level'] ==\"no education\") & (andhra['age'] >=15) & (andhra['upa_status']<=81)]\n",
        "el2 = andhra.loc[(andhra['edu level'] ==\"low education\") & (andhra['age'] >=15) & (andhra['upa_status']<=81)]\n",
        "el3 = andhra.loc[(andhra['edu level'] ==\"medium education\") & (andhra['age'] >=15) & (andhra['upa_status']<=81)]\n",
        "el4 = andhra.loc[(andhra['edu level'] ==\"high education\") & (andhra['age'] >=15) & (andhra['upa_status']<=81)]"
      ],
      "metadata": {
        "id": "fi8AAw_ZBT_6"
      },
      "execution_count": null,
      "outputs": []
    },
    {
      "cell_type": "code",
      "source": [
        "UNn = len(eun1)/len(el1)\n",
        "UNl = len(eun2)/len(el2)\n",
        "UNm = len(eun3)/len(el3)\n",
        "UNh= len(eun4)/len(el4)\n",
        "UNR_EDU_LEVEL = [UNn,UNl,UNm,UNh]\n",
        "UNR_EDU_LEVEL"
      ],
      "metadata": {
        "colab": {
          "base_uri": "https://localhost:8080/"
        },
        "id": "rrEtTTNHCgo4",
        "outputId": "912e0c11-0e02-4ed0-9c55-81ca49b53cb5"
      },
      "execution_count": null,
      "outputs": [
        {
          "output_type": "execute_result",
          "data": {
            "text/plain": [
              "[0.0005356186395286556,\n",
              " 0.015913200723327307,\n",
              " 0.1513353115727003,\n",
              " 0.2679738562091503]"
            ]
          },
          "metadata": {},
          "execution_count": 22
        }
      ]
    },
    {
      "cell_type": "code",
      "source": [
        "andhra['edu level']"
      ],
      "metadata": {
        "colab": {
          "base_uri": "https://localhost:8080/"
        },
        "id": "Htwv65nCEU7l",
        "outputId": "8a28593f-20c6-4f2f-a081-73b8ee1efb98"
      },
      "execution_count": null,
      "outputs": [
        {
          "output_type": "execute_result",
          "data": {
            "text/plain": [
              "0        medium education\n",
              "1           low education\n",
              "2            no education\n",
              "3            no education\n",
              "4            no education\n",
              "               ...       \n",
              "14173        no education\n",
              "14174       low education\n",
              "14175       low education\n",
              "14176       low education\n",
              "14177        no education\n",
              "Name: edu level, Length: 14178, dtype: object"
            ]
          },
          "metadata": {},
          "execution_count": 46
        }
      ]
    },
    {
      "cell_type": "code",
      "source": [
        "import pandas as pd\n",
        "import numpy as np\n",
        "import matplotlib.pyplot as plt"
      ],
      "metadata": {
        "id": "FGTaKdgVdExP"
      },
      "execution_count": null,
      "outputs": []
    },
    {
      "cell_type": "code",
      "source": [
        "edu_dict = {\"edu_level\":[\"No Education\",\"Low Education\",\"Medium education\",\"High education\"],\"Unr\":[0.003,1.261,15.447,26.066]}"
      ],
      "metadata": {
        "id": "KGpoAQzHdEEQ"
      },
      "execution_count": null,
      "outputs": []
    },
    {
      "cell_type": "code",
      "source": [
        "df = pd.DataFrame(edu_dict)\n",
        "w = 0.3"
      ],
      "metadata": {
        "id": "8FhLF-56erhN"
      },
      "execution_count": null,
      "outputs": []
    },
    {
      "cell_type": "code",
      "source": [
        "plt.bar(\"No Education\",0.003,w)\n",
        "plt.bar(\"Low Education\",1.261,w)\n",
        "plt.bar(\"Medium Education\",15.447,w)\n",
        "plt.bar(\"High Education\",26.066,w)\n",
        "#plt.pie(GEN_OBC,SC,ST)\n",
        "\n",
        "\n",
        "\n",
        "plt.xlabel(\"Education Level\")\n",
        "plt.ylabel(\"Unemployment Rate\")\n",
        "plt.title(\"Distribution of Unemployment rate by Education Level (in percentage terms)\",fontdict={'fontsize': 15})\n",
        "#plt.legend()\n",
        "plt.show()"
      ],
      "metadata": {
        "colab": {
          "base_uri": "https://localhost:8080/",
          "height": 297
        },
        "id": "3gt0CAAwexeI",
        "outputId": "3beed5ca-048e-414e-8430-14dbb9b7b8f0"
      },
      "execution_count": null,
      "outputs": [
        {
          "output_type": "display_data",
          "data": {
            "text/plain": [
              "<Figure size 432x288 with 1 Axes>"
            ],
            "image/png": "[encoded data removed]"
          },
          "metadata": {
            "needs_background": "light"
          }
        }
      ]
    },
    {
      "cell_type": "code",
      "source": [
        "# Distribution of wpr by caste\n",
        "plt.bar(\"ST\",63.922,w)\n",
        "plt.bar(\"SC\",56.397,w)\n",
        "plt.bar(\"OBC\",56.316,w)\n",
        "plt.bar(\"OTHERS\",46.267,w)\n",
        "#plt.pie(GEN_OBC,SC,ST)\n",
        "\n",
        "\n",
        "\n",
        "plt.xlabel(\"Social Group\")\n",
        "plt.ylabel(\"Work Force Participation Rate\")\n",
        "plt.title(\"Distribution of Work Force Participation rate by Social Group (in percentage terms)\",fontdict={'fontsize': 15})\n",
        "#plt.legend()\n",
        "plt.show()"
      ],
      "metadata": {
        "colab": {
          "base_uri": "https://localhost:8080/",
          "height": 297
        },
        "id": "rmoWwZLdgPcD",
        "outputId": "48cc723e-1eb8-4795-9075-70643509c6e2"
      },
      "execution_count": null,
      "outputs": [
        {
          "output_type": "display_data",
          "data": {
            "text/plain": [
              "<Figure size 432x288 with 1 Axes>"
            ],
            "image/png": "[encoded data removed]"
          },
          "metadata": {
            "needs_background": "light"
          }
        }
      ]
    },
    {
      "cell_type": "code",
      "source": [
        "plt.bar(\"ST\",5.052,w)\n",
        "plt.bar(\"SC\",5.490,w)\n",
        "plt.bar(\"OBC\",5.288,w)\n",
        "plt.bar(\"OTHERS\",5.701,w)\n",
        "#plt.pie(GEN_OBC,SC,ST)\n",
        "\n",
        "\n",
        "\n",
        "plt.xlabel(\"Social Group\")\n",
        "plt.ylabel(\"Unemployment Rate\")\n",
        "plt.title(\"Distribution of Unemployment rate by Social Group (in percentage terms)\",fontdict={'fontsize': 15})\n",
        "#plt.legend()\n",
        "plt.show()"
      ],
      "metadata": {
        "colab": {
          "base_uri": "https://localhost:8080/",
          "height": 297
        },
        "id": "YdKQrBChhNty",
        "outputId": "d49f7c5d-7eee-42f5-9cee-5901f4b687a5"
      },
      "execution_count": null,
      "outputs": [
        {
          "output_type": "display_data",
          "data": {
            "text/plain": [
              "<Figure size 432x288 with 1 Axes>"
            ],
            "image/png": "[encoded data removed]"
          },
          "metadata": {
            "needs_background": "light"
          }
        }
      ]
    },
    {
      "cell_type": "code",
      "source": [
        "# Good job comparision to country\n",
        "plt.bar(\"INDIA\",5.096,w)\n",
        "plt.bar(\"ANDHRA PRADESH\",4.410,w)\n",
        "#plt.bar(\"Medium Education\",15.447,w)\n",
        "#plt.bar(\"High Education\",26.066,w)\n",
        "#plt.pie(GEN_OBC,SC,ST)\n",
        "\n",
        "\n",
        "\n",
        "plt.xlabel(\"Coparision\")\n",
        "plt.ylabel(\"Work Force in Good Job\")\n",
        "plt.title(\"Comparision of Percent of Workforce in Good Job For State and Country\",fontdict={'fontsize': 15})\n",
        "#plt.legend()\n",
        "plt.show()"
      ],
      "metadata": {
        "colab": {
          "base_uri": "https://localhost:8080/",
          "height": 297
        },
        "id": "NuLcRVDWiFX4",
        "outputId": "04b4a3ac-c536-4923-e5e2-11df790aad9c"
      },
      "execution_count": null,
      "outputs": [
        {
          "output_type": "display_data",
          "data": {
            "text/plain": [
              "<Figure size 432x288 with 1 Axes>"
            ],
            "image/png": "[encoded data removed]"
          },
          "metadata": {
            "needs_background": "light"
          }
        }
      ]
    },
    {
      "cell_type": "code",
      "source": [
        "# Good Job By Catogory\n",
        "plt.bar(\"ST\",2.720,w)\n",
        "plt.bar(\"SC\",3.203,w)\n",
        "plt.bar(\"OBC\",4.480,w)\n",
        "plt.bar(\"OTHERS\",2.724,w)\n",
        "#plt.pie(GEN_OBC,SC,ST)\n",
        "\n",
        "\n",
        "\n",
        "plt.xlabel(\"Social Group\")\n",
        "plt.ylabel(\"Work Force in Good Job\")\n",
        "plt.title(\"Percentage of Work Force in Good Job by Social Group\",fontdict={'fontsize': 15})\n",
        "#plt.legend()\n",
        "plt.show()"
      ],
      "metadata": {
        "colab": {
          "base_uri": "https://localhost:8080/",
          "height": 297
        },
        "id": "khikB8-7jeCM",
        "outputId": "ca5956da-5a20-439b-e809-4342ee9e8efc"
      },
      "execution_count": null,
      "outputs": [
        {
          "output_type": "display_data",
          "data": {
            "text/plain": [
              "<Figure size 432x288 with 1 Axes>"
            ],
            "image/png": "[encoded data removed]"
          },
          "metadata": {
            "needs_background": "light"
          }
        }
      ]
    },
    {
      "cell_type": "code",
      "source": [
        "#lfpr by gender\n",
        "plt.bar(\"Male\",75.98,w)\n",
        "plt.bar(\"Female\",39.32,w)\n",
        "#plt.bar(\"Medium Education\",15.447,w)\n",
        "#plt.bar(\"High Education\",26.066,w)\n",
        "#plt.pie(GEN_OBC,SC,ST)\n",
        "\n",
        "\n",
        "\n",
        "plt.xlabel(\"Gender\")\n",
        "plt.ylabel(\"Labour Force Participation Rate\")\n",
        "plt.title(\"Labour Force Participation Rate by Gender (in percentage terms)\",fontdict={'fontsize': 15})\n",
        "#plt.legend()\n",
        "plt.show()"
      ],
      "metadata": {
        "colab": {
          "base_uri": "https://localhost:8080/",
          "height": 297
        },
        "id": "92byN844kqzo",
        "outputId": "27ab6a50-dfbb-4a53-b3e4-24fe854a6058"
      },
      "execution_count": null,
      "outputs": [
        {
          "output_type": "display_data",
          "data": {
            "text/plain": [
              "<Figure size 432x288 with 1 Axes>"
            ],
            "image/png": "[encoded data removed]"
          },
          "metadata": {
            "needs_background": "light"
          }
        }
      ]
    },
    {
      "cell_type": "code",
      "source": [
        "# Unemployment rate by gender\n",
        "plt.bar(\"Male\",5.31,w)\n",
        "plt.bar(\"Female\",5.32,w)\n",
        "#plt.bar(\"Medium Education\",15.447,w)\n",
        "#plt.bar(\"High Education\",26.066,w)\n",
        "#plt.pie(GEN_OBC,SC,ST)\n",
        "\n",
        "\n",
        "\n",
        "plt.xlabel(\"Gender\")\n",
        "plt.ylabel(\"Unemployment Rate\")\n",
        "plt.title(\"Unemployment rate by Gender (in percentage terms)\",fontdict={'fontsize': 15})\n",
        "#plt.legend()\n",
        "plt.show()"
      ],
      "metadata": {
        "colab": {
          "base_uri": "https://localhost:8080/",
          "height": 297
        },
        "id": "QDSuGRyjlbey",
        "outputId": "366d704d-86ff-4757-cbc9-153b4ec7df51"
      },
      "execution_count": null,
      "outputs": [
        {
          "output_type": "display_data",
          "data": {
            "text/plain": [
              "<Figure size 432x288 with 1 Axes>"
            ],
            "image/png": "[encoded data removed]"
          },
          "metadata": {
            "needs_background": "light"
          }
        }
      ]
    },
    {
      "cell_type": "code",
      "source": [
        "dict1 = {\"Social Group\":['ST','SC','OBC','OTHERS'],'Self Employed':[26.77,19.20,30.45,34.99],'Employer':[0.56,1.61,1.76,4.28],'House Hold Enterprise':[17.44,5.21,12.89,12.64],'Salaried/Wage Labour':[12.18,21.80,22.92,28.56],'Casual Wage Labour':[0.51,0.51,1.17,0.31],'Other types of Work':[42.53,51.65,30.80,19.21]}"
      ],
      "metadata": {
        "id": "NrLvfm7YnWbW"
      },
      "execution_count": null,
      "outputs": []
    },
    {
      "cell_type": "code",
      "source": [
        "df = pd.DataFrame(dict1)\n",
        "df"
      ],
      "metadata": {
        "colab": {
          "base_uri": "https://localhost:8080/",
          "height": 236
        },
        "id": "cIrN9t6WqEdW",
        "outputId": "d929a925-5885-40a2-f8d8-a6fbcc971e50"
      },
      "execution_count": null,
      "outputs": [
        {
          "output_type": "execute_result",
          "data": {
            "text/plain": [
              "  Social Group  Self Employed  Employer  House Hold Enterprise  \\\n",
              "0           ST          26.77      0.56                  17.44   \n",
              "1           SC          19.20      1.61                   5.21   \n",
              "2          OBC          30.45      1.76                  12.89   \n",
              "3       OTHERS          34.99      4.28                  12.64   \n",
              "\n",
              "   Salaried/Wage Labour  Casual Wage Labour  Other types of Work  \n",
              "0                 12.18                0.51                42.53  \n",
              "1                 21.80                0.51                51.65  \n",
              "2                 22.92                1.17                30.80  \n",
              "3                 28.56                0.31                19.21  "
            ],
            "text/html": [
              "\n",
              "  <div id=\"df-055b57cc-86e7-459c-9219-aef150d18eb9\">\n",
              "    <div class=\"colab-df-container\">\n",
              "      <div>\n",
              "<style scoped>\n",
              "    .dataframe tbody tr th:only-of-type {\n",
              "        vertical-align: middle;\n",
              "    }\n",
              "\n",
              "    .dataframe tbody tr th {\n",
              "        vertical-align: top;\n",
              "    }\n",
              "\n",
              "    .dataframe thead th {\n",
              "        text-align: right;\n",
              "    }\n",
              "</style>\n",
              "<table border=\"1\" class=\"dataframe\">\n",
              "  <thead>\n",
              "    <tr style=\"text-align: right;\">\n",
              "      <th></th>\n",
              "      <th>Social Group</th>\n",
              "      <th>Self Employed</th>\n",
              "      <th>Employer</th>\n",
              "      <th>House Hold Enterprise</th>\n",
              "      <th>Salaried/Wage Labour</th>\n",
              "      <th>Casual Wage Labour</th>\n",
              "      <th>Other types of Work</th>\n",
              "    </tr>\n",
              "  </thead>\n",
              "  <tbody>\n",
              "    <tr>\n",
              "      <th>0</th>\n",
              "      <td>ST</td>\n",
              "      <td>26.77</td>\n",
              "      <td>0.56</td>\n",
              "      <td>17.44</td>\n",
              "      <td>12.18</td>\n",
              "      <td>0.51</td>\n",
              "      <td>42.53</td>\n",
              "    </tr>\n",
              "    <tr>\n",
              "      <th>1</th>\n",
              "      <td>SC</td>\n",
              "      <td>19.20</td>\n",
              "      <td>1.61</td>\n",
              "      <td>5.21</td>\n",
              "      <td>21.80</td>\n",
              "      <td>0.51</td>\n",
              "      <td>51.65</td>\n",
              "    </tr>\n",
              "    <tr>\n",
              "      <th>2</th>\n",
              "      <td>OBC</td>\n",
              "      <td>30.45</td>\n",
              "      <td>1.76</td>\n",
              "      <td>12.89</td>\n",
              "      <td>22.92</td>\n",
              "      <td>1.17</td>\n",
              "      <td>30.80</td>\n",
              "    </tr>\n",
              "    <tr>\n",
              "      <th>3</th>\n",
              "      <td>OTHERS</td>\n",
              "      <td>34.99</td>\n",
              "      <td>4.28</td>\n",
              "      <td>12.64</td>\n",
              "      <td>28.56</td>\n",
              "      <td>0.31</td>\n",
              "      <td>19.21</td>\n",
              "    </tr>\n",
              "  </tbody>\n",
              "</table>\n",
              "</div>\n",
              "      <button class=\"colab-df-convert\" onclick=\"convertToInteractive('df-055b57cc-86e7-459c-9219-aef150d18eb9')\"\n",
              "              title=\"Convert this dataframe to an interactive table.\"\n",
              "              style=\"display:none;\">\n",
              "        \n",
              "  <svg xmlns=\"http://www.w3.org/2000/svg\" height=\"24px\"viewBox=\"0 0 24 24\"\n",
              "       width=\"24px\">\n",
              "    <path d=\"M0 0h24v24H0V0z\" fill=\"none\"/>\n",
              "    <path d=\"M18.56 5.44l.94 2.06.94-2.06 2.06-.94-2.06-.94-.94-2.06-.94 2.06-2.06.94zm-11 1L8.5 8.5l.94-2.06 2.06-.94-2.06-.94L8.5 2.5l-.94 2.06-2.06.94zm10 10l.94 2.06.94-2.06 2.06-.94-2.06-.94-.94-2.06-.94 2.06-2.06.94z\"/><path d=\"M17.41 7.96l-1.37-1.37c-.4-.4-.92-.59-1.43-.59-.52 0-1.04.2-1.43.59L10.3 9.45l-7.72 7.72c-.78.78-.78 2.05 0 2.83L4 21.41c.39.39.9.59 1.41.59.51 0 1.02-.2 1.41-.59l7.78-7.78 2.81-2.81c.8-.78.8-2.07 0-2.86zM5.41 20L4 18.59l7.72-7.72 1.47 1.35L5.41 20z\"/>\n",
              "  </svg>\n",
              "      </button>\n",
              "      \n",
              "  <style>\n",
              "    .colab-df-container {\n",
              "      display:flex;\n",
              "      flex-wrap:wrap;\n",
              "      gap: 12px;\n",
              "    }\n",
              "\n",
              "    .colab-df-convert {\n",
              "      background-color: #E8F0FE;\n",
              "      border: none;\n",
              "      border-radius: 50%;\n",
              "      cursor: pointer;\n",
              "      display: none;\n",
              "      fill: #1967D2;\n",
              "      height: 32px;\n",
              "      padding: 0 0 0 0;\n",
              "      width: 32px;\n",
              "    }\n",
              "\n",
              "    .colab-df-convert:hover {\n",
              "      background-color: #E2EBFA;\n",
              "      box-shadow: 0px 1px 2px rgba(60, 64, 67, 0.3), 0px 1px 3px 1px rgba(60, 64, 67, 0.15);\n",
              "      fill: #174EA6;\n",
              "    }\n",
              "\n",
              "    [theme=dark] .colab-df-convert {\n",
              "      background-color: #3B4455;\n",
              "      fill: #D2E3FC;\n",
              "    }\n",
              "\n",
              "    [theme=dark] .colab-df-convert:hover {\n",
              "      background-color: #434B5C;\n",
              "      box-shadow: 0px 1px 3px 1px rgba(0, 0, 0, 0.15);\n",
              "      filter: drop-shadow(0px 1px 2px rgba(0, 0, 0, 0.3));\n",
              "      fill: #FFFFFF;\n",
              "    }\n",
              "  </style>\n",
              "\n",
              "      <script>\n",
              "        const buttonEl =\n",
              "          document.querySelector('#df-055b57cc-86e7-459c-9219-aef150d18eb9 button.colab-df-convert');\n",
              "        buttonEl.style.display =\n",
              "          google.colab.kernel.accessAllowed ? 'block' : 'none';\n",
              "\n",
              "        async function convertToInteractive(key) {\n",
              "          const element = document.querySelector('#df-055b57cc-86e7-459c-9219-aef150d18eb9');\n",
              "          const dataTable =\n",
              "            await google.colab.kernel.invokeFunction('convertToInteractive',\n",
              "                                                     [key], {});\n",
              "          if (!dataTable) return;\n",
              "\n",
              "          const docLinkHtml = 'Like what you see? Visit the ' +\n",
              "            '<a target=\"_blank\" href=https://colab.research.google.com/notebooks/data_table.ipynb>data table notebook</a>'\n",
              "            + ' to learn more about interactive tables.';\n",
              "          element.innerHTML = '';\n",
              "          dataTable['output_type'] = 'display_data';\n",
              "          await google.colab.output.renderOutput(dataTable, element);\n",
              "          const docLink = document.createElement('div');\n",
              "          docLink.innerHTML = docLinkHtml;\n",
              "          element.appendChild(docLink);\n",
              "        }\n",
              "      </script>\n",
              "    </div>\n",
              "  </div>\n",
              "  "
            ]
          },
          "metadata": {},
          "execution_count": 18
        }
      ]
    },
    {
      "cell_type": "code",
      "source": [
        "x=df[\"Social Group\"]\n",
        "y1=df[\"Self Employed\"]\n",
        "y2=df[\"Employer\"]\n",
        "y3 = df[\"House Hold Enterprise\"]\n",
        "y4 = df['Salaried/Wage Labour']\n",
        "y5= df['Casual Wage Labour']\n",
        "y6 = df['Other types of Work']\n",
        "width = 0.1\n",
        "bar1=np.arange(len(x))\n",
        "bar2 = [i+width for i in bar1]\n",
        "bar3 = [i+width for i in bar2]\n",
        "bar4 = [i+width for i in bar3]\n",
        "bar5 = [i+width for i in bar4]\n",
        "bar6 = [i+width for i in bar5]\n",
        "\n",
        "\n",
        "fig = plt.figure(figsize = (25,25))\n",
        "plt.bar(bar1,y1,width,color=\"r\",label=\"Self Employed\")\n",
        "plt.bar(bar2,y2,width,color='g',label=\"Employer\")\n",
        "plt.bar(bar3,y3,width,color='b',label= \"House Hold Enterprise\")\n",
        "plt.bar(bar4,y4,width,color='y',label='Salaried/Wage Labour')\n",
        "plt.bar(bar5,y5,width,color='#8B2323',label='Casual Wage Labour')\n",
        "plt.bar(bar6,y6,width,color='#FFD39B',label='Other types of Work')\n",
        "plt.xticks(bar1+(width*2),x)\n",
        "plt.xlabel(\"Social Group\",fontdict={'fontsize': 20})\n",
        "plt.ylabel(\"Distribution of Workers\",fontdict={'fontsize': 20})\n",
        "plt.title('Distribution of Workers by Social Group by Work Type (in Percentage terms)',fontdict={'fontsize': 20})\n",
        "#plt.bar(\"Gender\",\"iterate\",data = Literacy_By_Gender,color=\"red\")\n",
        "plt.legend()\n",
        "plt.show()"
      ],
      "metadata": {
        "colab": {
          "base_uri": "https://localhost:8080/",
          "height": 1000
        },
        "id": "kV8-DfXEnW_b",
        "outputId": "40ea5a47-2058-41b0-df5a-982715584679"
      },
      "execution_count": null,
      "outputs": [
        {
          "output_type": "display_data",
          "data": {
            "text/plain": [
              "<Figure size 1800x1800 with 1 Axes>"
            ],
            "image/png": "[encoded data removed]"
          },
          "metadata": {
            "needs_background": "light"
          }
        }
      ]
    }
  ]
}